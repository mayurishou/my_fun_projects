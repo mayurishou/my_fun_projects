{
  "cells": [
    {
      "cell_type": "markdown",
      "metadata": {
        "id": "R6oINpJXFWuy"
      },
      "source": [
        "Imports"
      ]
    },
    {
      "cell_type": "code",
      "execution_count": 2,
      "metadata": {},
      "outputs": [
        {
          "name": "stdout",
          "output_type": "stream",
          "text": [
            "Collecting scikit-learn\n",
            "  Downloading scikit_learn-1.4.1.post1-cp310-cp310-win_amd64.whl.metadata (11 kB)\n",
            "Requirement already satisfied: numpy<2.0,>=1.19.5 in c:\\users\\julau\\appdata\\local\\programs\\python\\python310\\lib\\site-packages (from scikit-learn) (1.26.1)\n",
            "Requirement already satisfied: scipy>=1.6.0 in c:\\users\\julau\\appdata\\local\\programs\\python\\python310\\lib\\site-packages (from scikit-learn) (1.12.0)\n",
            "Collecting joblib>=1.2.0 (from scikit-learn)\n",
            "  Downloading joblib-1.3.2-py3-none-any.whl.metadata (5.4 kB)\n",
            "Collecting threadpoolctl>=2.0.0 (from scikit-learn)\n",
            "  Downloading threadpoolctl-3.3.0-py3-none-any.whl.metadata (13 kB)\n",
            "Downloading scikit_learn-1.4.1.post1-cp310-cp310-win_amd64.whl (10.6 MB)\n",
            "   ---------------------------------------- 10.6/10.6 MB 2.1 MB/s eta 0:00:00\n",
            "Downloading joblib-1.3.2-py3-none-any.whl (302 kB)\n",
            "   ---------------------------------------- 302.2/302.2 kB 2.3 MB/s eta 0:00:00\n",
            "Downloading threadpoolctl-3.3.0-py3-none-any.whl (17 kB)\n",
            "Installing collected packages: threadpoolctl, joblib, scikit-learn\n",
            "Successfully installed joblib-1.3.2 scikit-learn-1.4.1.post1 threadpoolctl-3.3.0\n",
            "Note: you may need to restart the kernel to use updated packages.\n"
          ]
        },
        {
          "name": "stderr",
          "output_type": "stream",
          "text": [
            "\n",
            "[notice] A new release of pip is available: 23.3.2 -> 24.0\n",
            "[notice] To update, run: python.exe -m pip install --upgrade pip\n"
          ]
        }
      ],
      "source": [
        "pip install -U scikit-learn"
      ]
    },
    {
      "cell_type": "code",
      "execution_count": 3,
      "metadata": {
        "id": "M6wE-zbO_Xfx"
      },
      "outputs": [],
      "source": [
        "import numpy as np\n",
        "import pandas as pd\n",
        "import matplotlib.pyplot as plt\n",
        "\n",
        "from sklearn.preprocessing import LabelEncoder"
      ]
    },
    {
      "cell_type": "markdown",
      "metadata": {
        "id": "q6JY35n9FoMW"
      },
      "source": [
        "Inspecting & Preparing data"
      ]
    },
    {
      "cell_type": "code",
      "execution_count": 4,
      "metadata": {
        "colab": {
          "base_uri": "https://localhost:8080/"
        },
        "id": "f1vkfdcGFcwy",
        "outputId": "4bed9b76-9a00-44df-a8ec-1c272f72f63a"
      },
      "outputs": [
        {
          "data": {
            "text/plain": [
              "Index(['Patient ID', 'Age', 'Gender', 'Visual Acuity Measurements',\n",
              "       'Intraocular Pressure (IOP)', 'Cup-to-Disc Ratio (CDR)',\n",
              "       'Family History', 'Medical History', 'Medication Usage',\n",
              "       'Visual Field Test Results',\n",
              "       'Optical Coherence Tomography (OCT) Results', 'Pachymetry',\n",
              "       'Cataract Status', 'Angle Closure Status', 'Visual Symptoms',\n",
              "       'Diagnosis', 'Glaucoma Type'],\n",
              "      dtype='object')"
            ]
          },
          "execution_count": 4,
          "metadata": {},
          "output_type": "execute_result"
        }
      ],
      "source": [
        "df = pd.read_csv(\"C:/Users/julau/OneDrive/Dokumenty/Studia II/projekty/glaucoma_detection/data/glaucoma_dataset.csv\")\n",
        "df.columns"
      ]
    },
    {
      "cell_type": "code",
      "execution_count": 5,
      "metadata": {
        "colab": {
          "base_uri": "https://localhost:8080/",
          "height": 710
        },
        "id": "k-uIht1jGgKk",
        "outputId": "d589b6ef-a3b0-4ec7-9855-a453820b2ef9"
      },
      "outputs": [
        {
          "data": {
            "text/html": [
              "<div>\n",
              "<style scoped>\n",
              "    .dataframe tbody tr th:only-of-type {\n",
              "        vertical-align: middle;\n",
              "    }\n",
              "\n",
              "    .dataframe tbody tr th {\n",
              "        vertical-align: top;\n",
              "    }\n",
              "\n",
              "    .dataframe thead th {\n",
              "        text-align: right;\n",
              "    }\n",
              "</style>\n",
              "<table border=\"1\" class=\"dataframe\">\n",
              "  <thead>\n",
              "    <tr style=\"text-align: right;\">\n",
              "      <th></th>\n",
              "      <th>Patient ID</th>\n",
              "      <th>Age</th>\n",
              "      <th>Gender</th>\n",
              "      <th>Visual Acuity Measurements</th>\n",
              "      <th>Intraocular Pressure (IOP)</th>\n",
              "      <th>Cup-to-Disc Ratio (CDR)</th>\n",
              "      <th>Family History</th>\n",
              "      <th>Medical History</th>\n",
              "      <th>Medication Usage</th>\n",
              "      <th>Visual Field Test Results</th>\n",
              "      <th>Optical Coherence Tomography (OCT) Results</th>\n",
              "      <th>Pachymetry</th>\n",
              "      <th>Cataract Status</th>\n",
              "      <th>Angle Closure Status</th>\n",
              "      <th>Visual Symptoms</th>\n",
              "      <th>Diagnosis</th>\n",
              "      <th>Glaucoma Type</th>\n",
              "    </tr>\n",
              "  </thead>\n",
              "  <tbody>\n",
              "    <tr>\n",
              "      <th>0</th>\n",
              "      <td>62431</td>\n",
              "      <td>69</td>\n",
              "      <td>Male</td>\n",
              "      <td>LogMAR 0.1</td>\n",
              "      <td>19.46</td>\n",
              "      <td>0.42</td>\n",
              "      <td>No</td>\n",
              "      <td>Diabetes</td>\n",
              "      <td>Amoxicillin, Lisinopril, Omeprazole, Atorvasta...</td>\n",
              "      <td>Sensitivity: 0.54, Specificity: 0.75</td>\n",
              "      <td>RNFL Thickness: 86.48 µm, GCC Thickness: 64.14...</td>\n",
              "      <td>541.51</td>\n",
              "      <td>Present</td>\n",
              "      <td>Open</td>\n",
              "      <td>Tunnel vision, Eye pain, Nausea</td>\n",
              "      <td>No Glaucoma</td>\n",
              "      <td>Primary Open-Angle Glaucoma</td>\n",
              "    </tr>\n",
              "    <tr>\n",
              "      <th>1</th>\n",
              "      <td>68125</td>\n",
              "      <td>69</td>\n",
              "      <td>Female</td>\n",
              "      <td>LogMAR 0.1</td>\n",
              "      <td>18.39</td>\n",
              "      <td>0.72</td>\n",
              "      <td>No</td>\n",
              "      <td>Hypertension</td>\n",
              "      <td>Lisinopril, Amoxicillin, Atorvastatin, Ibuprof...</td>\n",
              "      <td>Sensitivity: 0.72, Specificity: 0.88</td>\n",
              "      <td>RNFL Thickness: 96.88 µm, GCC Thickness: 56.48...</td>\n",
              "      <td>552.77</td>\n",
              "      <td>Absent</td>\n",
              "      <td>Open</td>\n",
              "      <td>Redness in the eye, Vision loss, Tunnel vision</td>\n",
              "      <td>No Glaucoma</td>\n",
              "      <td>Juvenile Glaucoma</td>\n",
              "    </tr>\n",
              "    <tr>\n",
              "      <th>2</th>\n",
              "      <td>63329</td>\n",
              "      <td>67</td>\n",
              "      <td>Female</td>\n",
              "      <td>20/40</td>\n",
              "      <td>23.65</td>\n",
              "      <td>0.72</td>\n",
              "      <td>No</td>\n",
              "      <td>Hypertension</td>\n",
              "      <td>Amoxicillin, Ibuprofen, Metformin, Atorvastati...</td>\n",
              "      <td>Sensitivity: 0.56, Specificity: 0.8</td>\n",
              "      <td>RNFL Thickness: 89.81 µm, GCC Thickness: 59.05...</td>\n",
              "      <td>573.65</td>\n",
              "      <td>Absent</td>\n",
              "      <td>Closed</td>\n",
              "      <td>Halos around lights, Vision loss, Redness in t...</td>\n",
              "      <td>No Glaucoma</td>\n",
              "      <td>Juvenile Glaucoma</td>\n",
              "    </tr>\n",
              "    <tr>\n",
              "      <th>3</th>\n",
              "      <td>47174</td>\n",
              "      <td>23</td>\n",
              "      <td>Male</td>\n",
              "      <td>LogMAR 0.0</td>\n",
              "      <td>18.04</td>\n",
              "      <td>0.61</td>\n",
              "      <td>No</td>\n",
              "      <td>None</td>\n",
              "      <td>Ibuprofen, Aspirin</td>\n",
              "      <td>Sensitivity: 0.6, Specificity: 0.93</td>\n",
              "      <td>RNFL Thickness: 87.25 µm, GCC Thickness: 63.98...</td>\n",
              "      <td>590.67</td>\n",
              "      <td>Absent</td>\n",
              "      <td>Closed</td>\n",
              "      <td>Nausea, Nausea, Halos around lights</td>\n",
              "      <td>No Glaucoma</td>\n",
              "      <td>Congenital Glaucoma</td>\n",
              "    </tr>\n",
              "    <tr>\n",
              "      <th>4</th>\n",
              "      <td>67361</td>\n",
              "      <td>21</td>\n",
              "      <td>Male</td>\n",
              "      <td>LogMAR 0.1</td>\n",
              "      <td>15.87</td>\n",
              "      <td>0.30</td>\n",
              "      <td>No</td>\n",
              "      <td>Diabetes</td>\n",
              "      <td>Amoxicillin, Omeprazole, Aspirin, Ibuprofen, A...</td>\n",
              "      <td>Sensitivity: 0.82, Specificity: 0.9</td>\n",
              "      <td>RNFL Thickness: 82.61 µm, GCC Thickness: 66.01...</td>\n",
              "      <td>588.41</td>\n",
              "      <td>Absent</td>\n",
              "      <td>Closed</td>\n",
              "      <td>Eye pain, Eye pain, Tunnel vision</td>\n",
              "      <td>No Glaucoma</td>\n",
              "      <td>Primary Open-Angle Glaucoma</td>\n",
              "    </tr>\n",
              "  </tbody>\n",
              "</table>\n",
              "</div>"
            ],
            "text/plain": [
              "   Patient ID  Age  Gender Visual Acuity Measurements  \\\n",
              "0       62431   69    Male                 LogMAR 0.1   \n",
              "1       68125   69  Female                 LogMAR 0.1   \n",
              "2       63329   67  Female                      20/40   \n",
              "3       47174   23    Male                 LogMAR 0.0   \n",
              "4       67361   21    Male                 LogMAR 0.1   \n",
              "\n",
              "   Intraocular Pressure (IOP)  Cup-to-Disc Ratio (CDR) Family History  \\\n",
              "0                       19.46                     0.42             No   \n",
              "1                       18.39                     0.72             No   \n",
              "2                       23.65                     0.72             No   \n",
              "3                       18.04                     0.61             No   \n",
              "4                       15.87                     0.30             No   \n",
              "\n",
              "  Medical History                                   Medication Usage  \\\n",
              "0        Diabetes  Amoxicillin, Lisinopril, Omeprazole, Atorvasta...   \n",
              "1    Hypertension  Lisinopril, Amoxicillin, Atorvastatin, Ibuprof...   \n",
              "2    Hypertension  Amoxicillin, Ibuprofen, Metformin, Atorvastati...   \n",
              "3            None                                 Ibuprofen, Aspirin   \n",
              "4        Diabetes  Amoxicillin, Omeprazole, Aspirin, Ibuprofen, A...   \n",
              "\n",
              "              Visual Field Test Results  \\\n",
              "0  Sensitivity: 0.54, Specificity: 0.75   \n",
              "1  Sensitivity: 0.72, Specificity: 0.88   \n",
              "2   Sensitivity: 0.56, Specificity: 0.8   \n",
              "3   Sensitivity: 0.6, Specificity: 0.93   \n",
              "4   Sensitivity: 0.82, Specificity: 0.9   \n",
              "\n",
              "          Optical Coherence Tomography (OCT) Results  Pachymetry  \\\n",
              "0  RNFL Thickness: 86.48 µm, GCC Thickness: 64.14...      541.51   \n",
              "1  RNFL Thickness: 96.88 µm, GCC Thickness: 56.48...      552.77   \n",
              "2  RNFL Thickness: 89.81 µm, GCC Thickness: 59.05...      573.65   \n",
              "3  RNFL Thickness: 87.25 µm, GCC Thickness: 63.98...      590.67   \n",
              "4  RNFL Thickness: 82.61 µm, GCC Thickness: 66.01...      588.41   \n",
              "\n",
              "  Cataract Status Angle Closure Status  \\\n",
              "0         Present                 Open   \n",
              "1          Absent                 Open   \n",
              "2          Absent               Closed   \n",
              "3          Absent               Closed   \n",
              "4          Absent               Closed   \n",
              "\n",
              "                                     Visual Symptoms    Diagnosis  \\\n",
              "0                    Tunnel vision, Eye pain, Nausea  No Glaucoma   \n",
              "1     Redness in the eye, Vision loss, Tunnel vision  No Glaucoma   \n",
              "2  Halos around lights, Vision loss, Redness in t...  No Glaucoma   \n",
              "3                Nausea, Nausea, Halos around lights  No Glaucoma   \n",
              "4                  Eye pain, Eye pain, Tunnel vision  No Glaucoma   \n",
              "\n",
              "                 Glaucoma Type  \n",
              "0  Primary Open-Angle Glaucoma  \n",
              "1            Juvenile Glaucoma  \n",
              "2            Juvenile Glaucoma  \n",
              "3          Congenital Glaucoma  \n",
              "4  Primary Open-Angle Glaucoma  "
            ]
          },
          "execution_count": 5,
          "metadata": {},
          "output_type": "execute_result"
        }
      ],
      "source": [
        "df.head()"
      ]
    },
    {
      "cell_type": "code",
      "execution_count": 6,
      "metadata": {
        "colab": {
          "base_uri": "https://localhost:8080/",
          "height": 710
        },
        "id": "y82AWkpYGq93",
        "outputId": "e9408368-4087-4c53-f2b9-7b56766479c1"
      },
      "outputs": [
        {
          "data": {
            "text/html": [
              "<div>\n",
              "<style scoped>\n",
              "    .dataframe tbody tr th:only-of-type {\n",
              "        vertical-align: middle;\n",
              "    }\n",
              "\n",
              "    .dataframe tbody tr th {\n",
              "        vertical-align: top;\n",
              "    }\n",
              "\n",
              "    .dataframe thead th {\n",
              "        text-align: right;\n",
              "    }\n",
              "</style>\n",
              "<table border=\"1\" class=\"dataframe\">\n",
              "  <thead>\n",
              "    <tr style=\"text-align: right;\">\n",
              "      <th></th>\n",
              "      <th>Patient ID</th>\n",
              "      <th>Age</th>\n",
              "      <th>Gender</th>\n",
              "      <th>Visual Acuity Measurements</th>\n",
              "      <th>Intraocular Pressure (IOP)</th>\n",
              "      <th>Cup-to-Disc Ratio (CDR)</th>\n",
              "      <th>Family History</th>\n",
              "      <th>Medical History</th>\n",
              "      <th>Medication Usage</th>\n",
              "      <th>Visual Field Test Results</th>\n",
              "      <th>Optical Coherence Tomography (OCT) Results</th>\n",
              "      <th>Pachymetry</th>\n",
              "      <th>Cataract Status</th>\n",
              "      <th>Angle Closure Status</th>\n",
              "      <th>Visual Symptoms</th>\n",
              "      <th>Diagnosis</th>\n",
              "      <th>Glaucoma Type</th>\n",
              "    </tr>\n",
              "  </thead>\n",
              "  <tbody>\n",
              "    <tr>\n",
              "      <th>9995</th>\n",
              "      <td>61720</td>\n",
              "      <td>81</td>\n",
              "      <td>Female</td>\n",
              "      <td>LogMAR 0.1</td>\n",
              "      <td>22.83</td>\n",
              "      <td>0.49</td>\n",
              "      <td>No</td>\n",
              "      <td>None</td>\n",
              "      <td>NaN</td>\n",
              "      <td>Sensitivity: 0.81, Specificity: 0.97</td>\n",
              "      <td>RNFL Thickness: 83.41 µm, GCC Thickness: 66.55...</td>\n",
              "      <td>576.53</td>\n",
              "      <td>Absent</td>\n",
              "      <td>Open</td>\n",
              "      <td>Eye pain, Eye pain, Tunnel vision</td>\n",
              "      <td>Glaucoma</td>\n",
              "      <td>Normal-Tension Glaucoma</td>\n",
              "    </tr>\n",
              "    <tr>\n",
              "      <th>9996</th>\n",
              "      <td>34983</td>\n",
              "      <td>65</td>\n",
              "      <td>Male</td>\n",
              "      <td>LogMAR 0.0</td>\n",
              "      <td>11.72</td>\n",
              "      <td>0.54</td>\n",
              "      <td>No</td>\n",
              "      <td>Diabetes</td>\n",
              "      <td>Lisinopril</td>\n",
              "      <td>Sensitivity: 0.7, Specificity: 0.97</td>\n",
              "      <td>RNFL Thickness: 83.04 µm, GCC Thickness: 63.24...</td>\n",
              "      <td>548.10</td>\n",
              "      <td>Absent</td>\n",
              "      <td>Open</td>\n",
              "      <td>Eye pain, Halos around lights, Vomiting</td>\n",
              "      <td>No Glaucoma</td>\n",
              "      <td>Normal-Tension Glaucoma</td>\n",
              "    </tr>\n",
              "    <tr>\n",
              "      <th>9997</th>\n",
              "      <td>67810</td>\n",
              "      <td>56</td>\n",
              "      <td>Female</td>\n",
              "      <td>20/40</td>\n",
              "      <td>10.67</td>\n",
              "      <td>0.56</td>\n",
              "      <td>Yes</td>\n",
              "      <td>Diabetes</td>\n",
              "      <td>Ibuprofen</td>\n",
              "      <td>Sensitivity: 0.8, Specificity: 0.9</td>\n",
              "      <td>RNFL Thickness: 95.93 µm, GCC Thickness: 59.78...</td>\n",
              "      <td>513.74</td>\n",
              "      <td>Present</td>\n",
              "      <td>Open</td>\n",
              "      <td>Vision loss, Vomiting, Blurred vision</td>\n",
              "      <td>No Glaucoma</td>\n",
              "      <td>Secondary Glaucoma</td>\n",
              "    </tr>\n",
              "    <tr>\n",
              "      <th>9998</th>\n",
              "      <td>34285</td>\n",
              "      <td>26</td>\n",
              "      <td>Male</td>\n",
              "      <td>LogMAR 0.1</td>\n",
              "      <td>23.37</td>\n",
              "      <td>0.74</td>\n",
              "      <td>No</td>\n",
              "      <td>Glaucoma in family</td>\n",
              "      <td>NaN</td>\n",
              "      <td>Sensitivity: 0.68, Specificity: 0.9</td>\n",
              "      <td>RNFL Thickness: 92.84 µm, GCC Thickness: 69.35...</td>\n",
              "      <td>585.03</td>\n",
              "      <td>Absent</td>\n",
              "      <td>Closed</td>\n",
              "      <td>Halos around lights, Nausea, Nausea</td>\n",
              "      <td>Glaucoma</td>\n",
              "      <td>Normal-Tension Glaucoma</td>\n",
              "    </tr>\n",
              "    <tr>\n",
              "      <th>9999</th>\n",
              "      <td>85320</td>\n",
              "      <td>76</td>\n",
              "      <td>Male</td>\n",
              "      <td>LogMAR 0.0</td>\n",
              "      <td>22.90</td>\n",
              "      <td>0.50</td>\n",
              "      <td>No</td>\n",
              "      <td>Diabetes</td>\n",
              "      <td>Lisinopril, Ibuprofen, Amoxicillin</td>\n",
              "      <td>Sensitivity: 0.87, Specificity: 0.73</td>\n",
              "      <td>RNFL Thickness: 88.77 µm, GCC Thickness: 58.74...</td>\n",
              "      <td>510.10</td>\n",
              "      <td>Absent</td>\n",
              "      <td>Open</td>\n",
              "      <td>Eye pain, Eye pain, Halos around lights</td>\n",
              "      <td>Glaucoma</td>\n",
              "      <td>Juvenile Glaucoma</td>\n",
              "    </tr>\n",
              "  </tbody>\n",
              "</table>\n",
              "</div>"
            ],
            "text/plain": [
              "      Patient ID  Age  Gender Visual Acuity Measurements  \\\n",
              "9995       61720   81  Female                 LogMAR 0.1   \n",
              "9996       34983   65    Male                 LogMAR 0.0   \n",
              "9997       67810   56  Female                      20/40   \n",
              "9998       34285   26    Male                 LogMAR 0.1   \n",
              "9999       85320   76    Male                 LogMAR 0.0   \n",
              "\n",
              "      Intraocular Pressure (IOP)  Cup-to-Disc Ratio (CDR) Family History  \\\n",
              "9995                       22.83                     0.49             No   \n",
              "9996                       11.72                     0.54             No   \n",
              "9997                       10.67                     0.56            Yes   \n",
              "9998                       23.37                     0.74             No   \n",
              "9999                       22.90                     0.50             No   \n",
              "\n",
              "         Medical History                    Medication Usage  \\\n",
              "9995                None                                 NaN   \n",
              "9996            Diabetes                          Lisinopril   \n",
              "9997            Diabetes                           Ibuprofen   \n",
              "9998  Glaucoma in family                                 NaN   \n",
              "9999            Diabetes  Lisinopril, Ibuprofen, Amoxicillin   \n",
              "\n",
              "                 Visual Field Test Results  \\\n",
              "9995  Sensitivity: 0.81, Specificity: 0.97   \n",
              "9996   Sensitivity: 0.7, Specificity: 0.97   \n",
              "9997    Sensitivity: 0.8, Specificity: 0.9   \n",
              "9998   Sensitivity: 0.68, Specificity: 0.9   \n",
              "9999  Sensitivity: 0.87, Specificity: 0.73   \n",
              "\n",
              "             Optical Coherence Tomography (OCT) Results  Pachymetry  \\\n",
              "9995  RNFL Thickness: 83.41 µm, GCC Thickness: 66.55...      576.53   \n",
              "9996  RNFL Thickness: 83.04 µm, GCC Thickness: 63.24...      548.10   \n",
              "9997  RNFL Thickness: 95.93 µm, GCC Thickness: 59.78...      513.74   \n",
              "9998  RNFL Thickness: 92.84 µm, GCC Thickness: 69.35...      585.03   \n",
              "9999  RNFL Thickness: 88.77 µm, GCC Thickness: 58.74...      510.10   \n",
              "\n",
              "     Cataract Status Angle Closure Status  \\\n",
              "9995          Absent                 Open   \n",
              "9996          Absent                 Open   \n",
              "9997         Present                 Open   \n",
              "9998          Absent               Closed   \n",
              "9999          Absent                 Open   \n",
              "\n",
              "                              Visual Symptoms    Diagnosis  \\\n",
              "9995        Eye pain, Eye pain, Tunnel vision     Glaucoma   \n",
              "9996  Eye pain, Halos around lights, Vomiting  No Glaucoma   \n",
              "9997    Vision loss, Vomiting, Blurred vision  No Glaucoma   \n",
              "9998      Halos around lights, Nausea, Nausea     Glaucoma   \n",
              "9999  Eye pain, Eye pain, Halos around lights     Glaucoma   \n",
              "\n",
              "                Glaucoma Type  \n",
              "9995  Normal-Tension Glaucoma  \n",
              "9996  Normal-Tension Glaucoma  \n",
              "9997       Secondary Glaucoma  \n",
              "9998  Normal-Tension Glaucoma  \n",
              "9999        Juvenile Glaucoma  "
            ]
          },
          "execution_count": 6,
          "metadata": {},
          "output_type": "execute_result"
        }
      ],
      "source": [
        "df.tail()"
      ]
    },
    {
      "cell_type": "code",
      "execution_count": 7,
      "metadata": {
        "colab": {
          "base_uri": "https://localhost:8080/"
        },
        "id": "aQvR8hWUF04c",
        "outputId": "8e7cc06f-fbd0-4670-daf4-d5114ec03465"
      },
      "outputs": [
        {
          "data": {
            "text/plain": [
              "Patient ID                                       0\n",
              "Age                                              0\n",
              "Gender                                           0\n",
              "Visual Acuity Measurements                       0\n",
              "Intraocular Pressure (IOP)                       0\n",
              "Cup-to-Disc Ratio (CDR)                          0\n",
              "Family History                                   0\n",
              "Medical History                                  0\n",
              "Medication Usage                              1231\n",
              "Visual Field Test Results                        0\n",
              "Optical Coherence Tomography (OCT) Results       0\n",
              "Pachymetry                                       0\n",
              "Cataract Status                                  0\n",
              "Angle Closure Status                             0\n",
              "Visual Symptoms                                  0\n",
              "Diagnosis                                        0\n",
              "Glaucoma Type                                    0\n",
              "dtype: int64"
            ]
          },
          "execution_count": 7,
          "metadata": {},
          "output_type": "execute_result"
        }
      ],
      "source": [
        "df.isnull().sum()"
      ]
    },
    {
      "cell_type": "code",
      "execution_count": 10,
      "metadata": {
        "colab": {
          "base_uri": "https://localhost:8080/",
          "height": 1000
        },
        "id": "V8Z5eF66G5WI",
        "outputId": "1aaccbc1-a943-4e5a-e89f-f5dbad1ec74b"
      },
      "outputs": [
        {
          "data": {
            "text/html": [
              "<div>\n",
              "<style scoped>\n",
              "    .dataframe tbody tr th:only-of-type {\n",
              "        vertical-align: middle;\n",
              "    }\n",
              "\n",
              "    .dataframe tbody tr th {\n",
              "        vertical-align: top;\n",
              "    }\n",
              "\n",
              "    .dataframe thead th {\n",
              "        text-align: right;\n",
              "    }\n",
              "</style>\n",
              "<table border=\"1\" class=\"dataframe\">\n",
              "  <thead>\n",
              "    <tr style=\"text-align: right;\">\n",
              "      <th></th>\n",
              "      <th>Patient ID</th>\n",
              "      <th>Age</th>\n",
              "      <th>Gender</th>\n",
              "      <th>Visual Acuity Measurements</th>\n",
              "      <th>Intraocular Pressure (IOP)</th>\n",
              "      <th>Cup-to-Disc Ratio (CDR)</th>\n",
              "      <th>Family History</th>\n",
              "      <th>Medical History</th>\n",
              "      <th>Medication Usage</th>\n",
              "      <th>Visual Field Test Results</th>\n",
              "      <th>Optical Coherence Tomography (OCT) Results</th>\n",
              "      <th>Pachymetry</th>\n",
              "      <th>Cataract Status</th>\n",
              "      <th>Angle Closure Status</th>\n",
              "      <th>Visual Symptoms</th>\n",
              "      <th>Diagnosis</th>\n",
              "      <th>Glaucoma Type</th>\n",
              "    </tr>\n",
              "  </thead>\n",
              "  <tbody>\n",
              "    <tr>\n",
              "      <th>9</th>\n",
              "      <td>4814</td>\n",
              "      <td>29</td>\n",
              "      <td>Male</td>\n",
              "      <td>20/20</td>\n",
              "      <td>11.40</td>\n",
              "      <td>0.37</td>\n",
              "      <td>No</td>\n",
              "      <td>None</td>\n",
              "      <td>NaN</td>\n",
              "      <td>Sensitivity: 0.94, Specificity: 0.78</td>\n",
              "      <td>RNFL Thickness: 80.37 µm, GCC Thickness: 67.89...</td>\n",
              "      <td>574.23</td>\n",
              "      <td>Present</td>\n",
              "      <td>Closed</td>\n",
              "      <td>Redness in the eye, Vomiting, Vision loss</td>\n",
              "      <td>No Glaucoma</td>\n",
              "      <td>Congenital Glaucoma</td>\n",
              "    </tr>\n",
              "    <tr>\n",
              "      <th>14</th>\n",
              "      <td>21617</td>\n",
              "      <td>73</td>\n",
              "      <td>Female</td>\n",
              "      <td>20/20</td>\n",
              "      <td>22.12</td>\n",
              "      <td>0.69</td>\n",
              "      <td>No</td>\n",
              "      <td>Diabetes</td>\n",
              "      <td>NaN</td>\n",
              "      <td>Sensitivity: 0.63, Specificity: 0.85</td>\n",
              "      <td>RNFL Thickness: 91.07 µm, GCC Thickness: 66.23...</td>\n",
              "      <td>576.16</td>\n",
              "      <td>Present</td>\n",
              "      <td>Open</td>\n",
              "      <td>Tunnel vision, Tunnel vision, Nausea</td>\n",
              "      <td>Glaucoma</td>\n",
              "      <td>Primary Open-Angle Glaucoma</td>\n",
              "    </tr>\n",
              "    <tr>\n",
              "      <th>26</th>\n",
              "      <td>93918</td>\n",
              "      <td>63</td>\n",
              "      <td>Female</td>\n",
              "      <td>20/40</td>\n",
              "      <td>11.55</td>\n",
              "      <td>0.65</td>\n",
              "      <td>No</td>\n",
              "      <td>Hypertension</td>\n",
              "      <td>NaN</td>\n",
              "      <td>Sensitivity: 0.83, Specificity: 0.74</td>\n",
              "      <td>RNFL Thickness: 98.23 µm, GCC Thickness: 57.92...</td>\n",
              "      <td>514.28</td>\n",
              "      <td>Present</td>\n",
              "      <td>Closed</td>\n",
              "      <td>Nausea, Vision loss, Vomiting</td>\n",
              "      <td>No Glaucoma</td>\n",
              "      <td>Primary Open-Angle Glaucoma</td>\n",
              "    </tr>\n",
              "    <tr>\n",
              "      <th>32</th>\n",
              "      <td>68346</td>\n",
              "      <td>29</td>\n",
              "      <td>Female</td>\n",
              "      <td>LogMAR 0.1</td>\n",
              "      <td>18.72</td>\n",
              "      <td>0.75</td>\n",
              "      <td>Yes</td>\n",
              "      <td>Hypertension</td>\n",
              "      <td>NaN</td>\n",
              "      <td>Sensitivity: 0.75, Specificity: 0.96</td>\n",
              "      <td>RNFL Thickness: 76.78 µm, GCC Thickness: 60.64...</td>\n",
              "      <td>527.76</td>\n",
              "      <td>Present</td>\n",
              "      <td>Closed</td>\n",
              "      <td>Vision loss, Redness in the eye, Nausea</td>\n",
              "      <td>Glaucoma</td>\n",
              "      <td>Secondary Glaucoma</td>\n",
              "    </tr>\n",
              "    <tr>\n",
              "      <th>35</th>\n",
              "      <td>73947</td>\n",
              "      <td>38</td>\n",
              "      <td>Female</td>\n",
              "      <td>LogMAR 0.1</td>\n",
              "      <td>17.14</td>\n",
              "      <td>0.64</td>\n",
              "      <td>Yes</td>\n",
              "      <td>Diabetes</td>\n",
              "      <td>NaN</td>\n",
              "      <td>Sensitivity: 0.85, Specificity: 0.99</td>\n",
              "      <td>RNFL Thickness: 76.28 µm, GCC Thickness: 55.98...</td>\n",
              "      <td>562.99</td>\n",
              "      <td>Present</td>\n",
              "      <td>Closed</td>\n",
              "      <td>Vomiting, Nausea, Tunnel vision</td>\n",
              "      <td>No Glaucoma</td>\n",
              "      <td>Angle-Closure Glaucoma</td>\n",
              "    </tr>\n",
              "    <tr>\n",
              "      <th>...</th>\n",
              "      <td>...</td>\n",
              "      <td>...</td>\n",
              "      <td>...</td>\n",
              "      <td>...</td>\n",
              "      <td>...</td>\n",
              "      <td>...</td>\n",
              "      <td>...</td>\n",
              "      <td>...</td>\n",
              "      <td>...</td>\n",
              "      <td>...</td>\n",
              "      <td>...</td>\n",
              "      <td>...</td>\n",
              "      <td>...</td>\n",
              "      <td>...</td>\n",
              "      <td>...</td>\n",
              "      <td>...</td>\n",
              "      <td>...</td>\n",
              "    </tr>\n",
              "    <tr>\n",
              "      <th>9972</th>\n",
              "      <td>76819</td>\n",
              "      <td>39</td>\n",
              "      <td>Female</td>\n",
              "      <td>20/40</td>\n",
              "      <td>23.18</td>\n",
              "      <td>0.57</td>\n",
              "      <td>Yes</td>\n",
              "      <td>Diabetes</td>\n",
              "      <td>NaN</td>\n",
              "      <td>Sensitivity: 0.99, Specificity: 0.98</td>\n",
              "      <td>RNFL Thickness: 98.25 µm, GCC Thickness: 62.91...</td>\n",
              "      <td>568.90</td>\n",
              "      <td>Absent</td>\n",
              "      <td>Closed</td>\n",
              "      <td>Blurred vision, Nausea, Halos around lights</td>\n",
              "      <td>Glaucoma</td>\n",
              "      <td>Juvenile Glaucoma</td>\n",
              "    </tr>\n",
              "    <tr>\n",
              "      <th>9978</th>\n",
              "      <td>20829</td>\n",
              "      <td>28</td>\n",
              "      <td>Female</td>\n",
              "      <td>LogMAR 0.0</td>\n",
              "      <td>19.23</td>\n",
              "      <td>0.71</td>\n",
              "      <td>No</td>\n",
              "      <td>Glaucoma in family</td>\n",
              "      <td>NaN</td>\n",
              "      <td>Sensitivity: 0.51, Specificity: 0.72</td>\n",
              "      <td>RNFL Thickness: 94.72 µm, GCC Thickness: 61.19...</td>\n",
              "      <td>540.15</td>\n",
              "      <td>Absent</td>\n",
              "      <td>Closed</td>\n",
              "      <td>Tunnel vision, Blurred vision, Vomiting</td>\n",
              "      <td>No Glaucoma</td>\n",
              "      <td>Congenital Glaucoma</td>\n",
              "    </tr>\n",
              "    <tr>\n",
              "      <th>9994</th>\n",
              "      <td>41582</td>\n",
              "      <td>58</td>\n",
              "      <td>Female</td>\n",
              "      <td>20/20</td>\n",
              "      <td>16.80</td>\n",
              "      <td>0.51</td>\n",
              "      <td>Yes</td>\n",
              "      <td>Hypertension</td>\n",
              "      <td>NaN</td>\n",
              "      <td>Sensitivity: 0.62, Specificity: 0.92</td>\n",
              "      <td>RNFL Thickness: 89.91 µm, GCC Thickness: 55.22...</td>\n",
              "      <td>509.87</td>\n",
              "      <td>Present</td>\n",
              "      <td>Open</td>\n",
              "      <td>Eye pain, Eye pain, Tunnel vision</td>\n",
              "      <td>No Glaucoma</td>\n",
              "      <td>Secondary Glaucoma</td>\n",
              "    </tr>\n",
              "    <tr>\n",
              "      <th>9995</th>\n",
              "      <td>61720</td>\n",
              "      <td>81</td>\n",
              "      <td>Female</td>\n",
              "      <td>LogMAR 0.1</td>\n",
              "      <td>22.83</td>\n",
              "      <td>0.49</td>\n",
              "      <td>No</td>\n",
              "      <td>None</td>\n",
              "      <td>NaN</td>\n",
              "      <td>Sensitivity: 0.81, Specificity: 0.97</td>\n",
              "      <td>RNFL Thickness: 83.41 µm, GCC Thickness: 66.55...</td>\n",
              "      <td>576.53</td>\n",
              "      <td>Absent</td>\n",
              "      <td>Open</td>\n",
              "      <td>Eye pain, Eye pain, Tunnel vision</td>\n",
              "      <td>Glaucoma</td>\n",
              "      <td>Normal-Tension Glaucoma</td>\n",
              "    </tr>\n",
              "    <tr>\n",
              "      <th>9998</th>\n",
              "      <td>34285</td>\n",
              "      <td>26</td>\n",
              "      <td>Male</td>\n",
              "      <td>LogMAR 0.1</td>\n",
              "      <td>23.37</td>\n",
              "      <td>0.74</td>\n",
              "      <td>No</td>\n",
              "      <td>Glaucoma in family</td>\n",
              "      <td>NaN</td>\n",
              "      <td>Sensitivity: 0.68, Specificity: 0.9</td>\n",
              "      <td>RNFL Thickness: 92.84 µm, GCC Thickness: 69.35...</td>\n",
              "      <td>585.03</td>\n",
              "      <td>Absent</td>\n",
              "      <td>Closed</td>\n",
              "      <td>Halos around lights, Nausea, Nausea</td>\n",
              "      <td>Glaucoma</td>\n",
              "      <td>Normal-Tension Glaucoma</td>\n",
              "    </tr>\n",
              "  </tbody>\n",
              "</table>\n",
              "<p>1231 rows × 17 columns</p>\n",
              "</div>"
            ],
            "text/plain": [
              "      Patient ID  Age  Gender Visual Acuity Measurements  \\\n",
              "9           4814   29    Male                      20/20   \n",
              "14         21617   73  Female                      20/20   \n",
              "26         93918   63  Female                      20/40   \n",
              "32         68346   29  Female                 LogMAR 0.1   \n",
              "35         73947   38  Female                 LogMAR 0.1   \n",
              "...          ...  ...     ...                        ...   \n",
              "9972       76819   39  Female                      20/40   \n",
              "9978       20829   28  Female                 LogMAR 0.0   \n",
              "9994       41582   58  Female                      20/20   \n",
              "9995       61720   81  Female                 LogMAR 0.1   \n",
              "9998       34285   26    Male                 LogMAR 0.1   \n",
              "\n",
              "      Intraocular Pressure (IOP)  Cup-to-Disc Ratio (CDR) Family History  \\\n",
              "9                          11.40                     0.37             No   \n",
              "14                         22.12                     0.69             No   \n",
              "26                         11.55                     0.65             No   \n",
              "32                         18.72                     0.75            Yes   \n",
              "35                         17.14                     0.64            Yes   \n",
              "...                          ...                      ...            ...   \n",
              "9972                       23.18                     0.57            Yes   \n",
              "9978                       19.23                     0.71             No   \n",
              "9994                       16.80                     0.51            Yes   \n",
              "9995                       22.83                     0.49             No   \n",
              "9998                       23.37                     0.74             No   \n",
              "\n",
              "         Medical History Medication Usage  \\\n",
              "9                   None              NaN   \n",
              "14              Diabetes              NaN   \n",
              "26          Hypertension              NaN   \n",
              "32          Hypertension              NaN   \n",
              "35              Diabetes              NaN   \n",
              "...                  ...              ...   \n",
              "9972            Diabetes              NaN   \n",
              "9978  Glaucoma in family              NaN   \n",
              "9994        Hypertension              NaN   \n",
              "9995                None              NaN   \n",
              "9998  Glaucoma in family              NaN   \n",
              "\n",
              "                 Visual Field Test Results  \\\n",
              "9     Sensitivity: 0.94, Specificity: 0.78   \n",
              "14    Sensitivity: 0.63, Specificity: 0.85   \n",
              "26    Sensitivity: 0.83, Specificity: 0.74   \n",
              "32    Sensitivity: 0.75, Specificity: 0.96   \n",
              "35    Sensitivity: 0.85, Specificity: 0.99   \n",
              "...                                    ...   \n",
              "9972  Sensitivity: 0.99, Specificity: 0.98   \n",
              "9978  Sensitivity: 0.51, Specificity: 0.72   \n",
              "9994  Sensitivity: 0.62, Specificity: 0.92   \n",
              "9995  Sensitivity: 0.81, Specificity: 0.97   \n",
              "9998   Sensitivity: 0.68, Specificity: 0.9   \n",
              "\n",
              "             Optical Coherence Tomography (OCT) Results  Pachymetry  \\\n",
              "9     RNFL Thickness: 80.37 µm, GCC Thickness: 67.89...      574.23   \n",
              "14    RNFL Thickness: 91.07 µm, GCC Thickness: 66.23...      576.16   \n",
              "26    RNFL Thickness: 98.23 µm, GCC Thickness: 57.92...      514.28   \n",
              "32    RNFL Thickness: 76.78 µm, GCC Thickness: 60.64...      527.76   \n",
              "35    RNFL Thickness: 76.28 µm, GCC Thickness: 55.98...      562.99   \n",
              "...                                                 ...         ...   \n",
              "9972  RNFL Thickness: 98.25 µm, GCC Thickness: 62.91...      568.90   \n",
              "9978  RNFL Thickness: 94.72 µm, GCC Thickness: 61.19...      540.15   \n",
              "9994  RNFL Thickness: 89.91 µm, GCC Thickness: 55.22...      509.87   \n",
              "9995  RNFL Thickness: 83.41 µm, GCC Thickness: 66.55...      576.53   \n",
              "9998  RNFL Thickness: 92.84 µm, GCC Thickness: 69.35...      585.03   \n",
              "\n",
              "     Cataract Status Angle Closure Status  \\\n",
              "9            Present               Closed   \n",
              "14           Present                 Open   \n",
              "26           Present               Closed   \n",
              "32           Present               Closed   \n",
              "35           Present               Closed   \n",
              "...              ...                  ...   \n",
              "9972          Absent               Closed   \n",
              "9978          Absent               Closed   \n",
              "9994         Present                 Open   \n",
              "9995          Absent                 Open   \n",
              "9998          Absent               Closed   \n",
              "\n",
              "                                  Visual Symptoms    Diagnosis  \\\n",
              "9       Redness in the eye, Vomiting, Vision loss  No Glaucoma   \n",
              "14           Tunnel vision, Tunnel vision, Nausea     Glaucoma   \n",
              "26                  Nausea, Vision loss, Vomiting  No Glaucoma   \n",
              "32        Vision loss, Redness in the eye, Nausea     Glaucoma   \n",
              "35                Vomiting, Nausea, Tunnel vision  No Glaucoma   \n",
              "...                                           ...          ...   \n",
              "9972  Blurred vision, Nausea, Halos around lights     Glaucoma   \n",
              "9978      Tunnel vision, Blurred vision, Vomiting  No Glaucoma   \n",
              "9994            Eye pain, Eye pain, Tunnel vision  No Glaucoma   \n",
              "9995            Eye pain, Eye pain, Tunnel vision     Glaucoma   \n",
              "9998          Halos around lights, Nausea, Nausea     Glaucoma   \n",
              "\n",
              "                    Glaucoma Type  \n",
              "9             Congenital Glaucoma  \n",
              "14    Primary Open-Angle Glaucoma  \n",
              "26    Primary Open-Angle Glaucoma  \n",
              "32             Secondary Glaucoma  \n",
              "35         Angle-Closure Glaucoma  \n",
              "...                           ...  \n",
              "9972            Juvenile Glaucoma  \n",
              "9978          Congenital Glaucoma  \n",
              "9994           Secondary Glaucoma  \n",
              "9995      Normal-Tension Glaucoma  \n",
              "9998      Normal-Tension Glaucoma  \n",
              "\n",
              "[1231 rows x 17 columns]"
            ]
          },
          "execution_count": 10,
          "metadata": {},
          "output_type": "execute_result"
        }
      ],
      "source": [
        "df[df['Medication Usage'].isnull()]"
      ]
    },
    {
      "cell_type": "code",
      "execution_count": 8,
      "metadata": {
        "colab": {
          "base_uri": "https://localhost:8080/"
        },
        "id": "UQJqsZOSHYuM",
        "outputId": "bbaa7891-1c97-41d1-b291-bb2d411090b2"
      },
      "outputs": [
        {
          "name": "stdout",
          "output_type": "stream",
          "text": [
            "<class 'pandas.core.frame.DataFrame'>\n",
            "RangeIndex: 10000 entries, 0 to 9999\n",
            "Data columns (total 17 columns):\n",
            " #   Column                                      Non-Null Count  Dtype  \n",
            "---  ------                                      --------------  -----  \n",
            " 0   Patient ID                                  10000 non-null  int64  \n",
            " 1   Age                                         10000 non-null  int64  \n",
            " 2   Gender                                      10000 non-null  object \n",
            " 3   Visual Acuity Measurements                  10000 non-null  object \n",
            " 4   Intraocular Pressure (IOP)                  10000 non-null  float64\n",
            " 5   Cup-to-Disc Ratio (CDR)                     10000 non-null  float64\n",
            " 6   Family History                              10000 non-null  object \n",
            " 7   Medical History                             10000 non-null  object \n",
            " 8   Medication Usage                            8769 non-null   object \n",
            " 9   Visual Field Test Results                   10000 non-null  object \n",
            " 10  Optical Coherence Tomography (OCT) Results  10000 non-null  object \n",
            " 11  Pachymetry                                  10000 non-null  float64\n",
            " 12  Cataract Status                             10000 non-null  object \n",
            " 13  Angle Closure Status                        10000 non-null  object \n",
            " 14  Visual Symptoms                             10000 non-null  object \n",
            " 15  Diagnosis                                   10000 non-null  object \n",
            " 16  Glaucoma Type                               10000 non-null  object \n",
            "dtypes: float64(3), int64(2), object(12)\n",
            "memory usage: 1.3+ MB\n"
          ]
        }
      ],
      "source": [
        "df.info()"
      ]
    },
    {
      "cell_type": "code",
      "execution_count": 9,
      "metadata": {
        "colab": {
          "base_uri": "https://localhost:8080/"
        },
        "id": "nMFHBkt1H3WM",
        "outputId": "f781dab3-0cab-421b-e97c-13b1144aac12"
      },
      "outputs": [
        {
          "data": {
            "text/plain": [
              "Index(['patient_id', 'age', 'gender', 'vis', 'iop', 'cdr', 'family_his',\n",
              "       'medical_his', 'medication', 'visual_field_results', 'oct',\n",
              "       'pachymetry', 'cataract', 'angle_closure', 'visual_symptoms',\n",
              "       'diagnosis', 'glaucoma_type'],\n",
              "      dtype='object')"
            ]
          },
          "execution_count": 9,
          "metadata": {},
          "output_type": "execute_result"
        }
      ],
      "source": [
        "#renaming columns\n",
        "col_names = ['patient_id', 'age', 'gender', 'vis', 'iop', 'cdr','family_his', 'medical_his', 'medication','visual_field_results','oct', 'pachymetry',\n",
        "'cataract', 'angle_closure', 'visual_symptoms', 'diagnosis', 'glaucoma_type']\n",
        "\n",
        "df.columns = col_names\n",
        "df.columns"
      ]
    },
    {
      "cell_type": "code",
      "execution_count": 10,
      "metadata": {
        "id": "BXV4_YkXKl1k"
      },
      "outputs": [],
      "source": [
        "#creating function for identifying data\n",
        "\n",
        "def unique_values (dataframe, col_name):\n",
        "  if col_name in dataframe.columns:\n",
        "    return np.unique(dataframe[col_name])\n",
        "  else:\n",
        "    return np.array([])\n"
      ]
    },
    {
      "cell_type": "code",
      "execution_count": 11,
      "metadata": {
        "colab": {
          "base_uri": "https://localhost:8080/"
        },
        "id": "583olIWtKBpi",
        "outputId": "18c74762-8947-4392-be35-6c6a13155913"
      },
      "outputs": [
        {
          "data": {
            "text/plain": [
              "array(['20/20', '20/40', 'LogMAR 0.0', 'LogMAR 0.1'], dtype=object)"
            ]
          },
          "execution_count": 11,
          "metadata": {},
          "output_type": "execute_result"
        }
      ],
      "source": [
        "#identifying data for classification, etc.\n",
        "#for class: age, medical_his ('Diabetes', 'Glaucoma in family', 'Hypertension', 'None'), visual_symptoms ('Blurred vision, Blurred vision, Blurred vision'), glaucoma_type\n",
        "#change into float: vis('20/20', '20/40', 'LogMAR 0.0', 'LogMAR 0.1'), visual_field_results (there's string: 'Sensitivity: 0.5, Specificity: 0.7'),\n",
        "  #oct ('RNFL Thickness: 100.00 µm, GCC Thickness: 56.53 µm, Retinal Volume: 5.67 mm³, Macular Thickness: 284.22 µm')\n",
        "#change into bool: family_his ('No', 'Yes'), cataract ('Absent', 'Present'), angle_closure('Closed', 'Open'), diagnosis ('Glaucoma', 'No Glaucoma')'''\n",
        "unique_values(df, 'vis')"
      ]
    },
    {
      "cell_type": "markdown",
      "metadata": {
        "id": "MfqX1wa4Y7W6"
      },
      "source": [
        "\n",
        "\n",
        "1.   DEALING WITH FLOATS\n",
        "vis, visual_field_results, oct\n",
        "\n",
        "*   vis\n",
        "*   visual_field_results\n",
        "*   oct\n",
        "\n",
        "\n",
        "\n",
        "\n",
        "\n",
        "\n"
      ]
    },
    {
      "cell_type": "markdown",
      "metadata": {
        "id": "QK4PuKaXX_7p"
      },
      "source": [
        "**vis column**"
      ]
    },
    {
      "cell_type": "code",
      "execution_count": 12,
      "metadata": {
        "colab": {
          "base_uri": "https://localhost:8080/"
        },
        "id": "Dj1ouAnvP75p",
        "outputId": "65035107-0238-4526-ad0b-cf44a8e3504f"
      },
      "outputs": [
        {
          "data": {
            "text/plain": [
              "0       0.1\n",
              "1       0.1\n",
              "2       0.3\n",
              "3       0.0\n",
              "4       0.1\n",
              "       ... \n",
              "9995    0.1\n",
              "9996    0.0\n",
              "9997    0.3\n",
              "9998    0.1\n",
              "9999    0.0\n",
              "Name: vis, Length: 10000, dtype: float64"
            ]
          },
          "execution_count": 12,
          "metadata": {},
          "output_type": "execute_result"
        }
      ],
      "source": [
        "#vis column\n",
        "mapping = {'20/20': 0.0, '20/40': 0.3, 'LogMAR 0.0': 0.0, 'LogMAR 0.1': 0.1}\n",
        "df['vis'] = df['vis'].map(mapping)\n",
        "df['vis']"
      ]
    },
    {
      "cell_type": "code",
      "execution_count": 13,
      "metadata": {
        "colab": {
          "base_uri": "https://localhost:8080/",
          "height": 660
        },
        "id": "hxSEf5N9To3F",
        "outputId": "7736d9be-e273-4a5e-d641-657e5d3b44e1"
      },
      "outputs": [
        {
          "data": {
            "text/html": [
              "<div>\n",
              "<style scoped>\n",
              "    .dataframe tbody tr th:only-of-type {\n",
              "        vertical-align: middle;\n",
              "    }\n",
              "\n",
              "    .dataframe tbody tr th {\n",
              "        vertical-align: top;\n",
              "    }\n",
              "\n",
              "    .dataframe thead th {\n",
              "        text-align: right;\n",
              "    }\n",
              "</style>\n",
              "<table border=\"1\" class=\"dataframe\">\n",
              "  <thead>\n",
              "    <tr style=\"text-align: right;\">\n",
              "      <th></th>\n",
              "      <th>patient_id</th>\n",
              "      <th>age</th>\n",
              "      <th>gender</th>\n",
              "      <th>vis</th>\n",
              "      <th>iop</th>\n",
              "      <th>cdr</th>\n",
              "      <th>family_his</th>\n",
              "      <th>medical_his</th>\n",
              "      <th>medication</th>\n",
              "      <th>visual_field_results</th>\n",
              "      <th>oct</th>\n",
              "      <th>pachymetry</th>\n",
              "      <th>cataract</th>\n",
              "      <th>angle_closure</th>\n",
              "      <th>visual_symptoms</th>\n",
              "      <th>diagnosis</th>\n",
              "      <th>glaucoma_type</th>\n",
              "    </tr>\n",
              "  </thead>\n",
              "  <tbody>\n",
              "    <tr>\n",
              "      <th>0</th>\n",
              "      <td>62431</td>\n",
              "      <td>69</td>\n",
              "      <td>Male</td>\n",
              "      <td>0.1</td>\n",
              "      <td>19.46</td>\n",
              "      <td>0.42</td>\n",
              "      <td>No</td>\n",
              "      <td>Diabetes</td>\n",
              "      <td>Amoxicillin, Lisinopril, Omeprazole, Atorvasta...</td>\n",
              "      <td>Sensitivity: 0.54, Specificity: 0.75</td>\n",
              "      <td>RNFL Thickness: 86.48 µm, GCC Thickness: 64.14...</td>\n",
              "      <td>541.51</td>\n",
              "      <td>Present</td>\n",
              "      <td>Open</td>\n",
              "      <td>Tunnel vision, Eye pain, Nausea</td>\n",
              "      <td>No Glaucoma</td>\n",
              "      <td>Primary Open-Angle Glaucoma</td>\n",
              "    </tr>\n",
              "    <tr>\n",
              "      <th>1</th>\n",
              "      <td>68125</td>\n",
              "      <td>69</td>\n",
              "      <td>Female</td>\n",
              "      <td>0.1</td>\n",
              "      <td>18.39</td>\n",
              "      <td>0.72</td>\n",
              "      <td>No</td>\n",
              "      <td>Hypertension</td>\n",
              "      <td>Lisinopril, Amoxicillin, Atorvastatin, Ibuprof...</td>\n",
              "      <td>Sensitivity: 0.72, Specificity: 0.88</td>\n",
              "      <td>RNFL Thickness: 96.88 µm, GCC Thickness: 56.48...</td>\n",
              "      <td>552.77</td>\n",
              "      <td>Absent</td>\n",
              "      <td>Open</td>\n",
              "      <td>Redness in the eye, Vision loss, Tunnel vision</td>\n",
              "      <td>No Glaucoma</td>\n",
              "      <td>Juvenile Glaucoma</td>\n",
              "    </tr>\n",
              "    <tr>\n",
              "      <th>2</th>\n",
              "      <td>63329</td>\n",
              "      <td>67</td>\n",
              "      <td>Female</td>\n",
              "      <td>0.3</td>\n",
              "      <td>23.65</td>\n",
              "      <td>0.72</td>\n",
              "      <td>No</td>\n",
              "      <td>Hypertension</td>\n",
              "      <td>Amoxicillin, Ibuprofen, Metformin, Atorvastati...</td>\n",
              "      <td>Sensitivity: 0.56, Specificity: 0.8</td>\n",
              "      <td>RNFL Thickness: 89.81 µm, GCC Thickness: 59.05...</td>\n",
              "      <td>573.65</td>\n",
              "      <td>Absent</td>\n",
              "      <td>Closed</td>\n",
              "      <td>Halos around lights, Vision loss, Redness in t...</td>\n",
              "      <td>No Glaucoma</td>\n",
              "      <td>Juvenile Glaucoma</td>\n",
              "    </tr>\n",
              "    <tr>\n",
              "      <th>3</th>\n",
              "      <td>47174</td>\n",
              "      <td>23</td>\n",
              "      <td>Male</td>\n",
              "      <td>0.0</td>\n",
              "      <td>18.04</td>\n",
              "      <td>0.61</td>\n",
              "      <td>No</td>\n",
              "      <td>None</td>\n",
              "      <td>Ibuprofen, Aspirin</td>\n",
              "      <td>Sensitivity: 0.6, Specificity: 0.93</td>\n",
              "      <td>RNFL Thickness: 87.25 µm, GCC Thickness: 63.98...</td>\n",
              "      <td>590.67</td>\n",
              "      <td>Absent</td>\n",
              "      <td>Closed</td>\n",
              "      <td>Nausea, Nausea, Halos around lights</td>\n",
              "      <td>No Glaucoma</td>\n",
              "      <td>Congenital Glaucoma</td>\n",
              "    </tr>\n",
              "    <tr>\n",
              "      <th>4</th>\n",
              "      <td>67361</td>\n",
              "      <td>21</td>\n",
              "      <td>Male</td>\n",
              "      <td>0.1</td>\n",
              "      <td>15.87</td>\n",
              "      <td>0.30</td>\n",
              "      <td>No</td>\n",
              "      <td>Diabetes</td>\n",
              "      <td>Amoxicillin, Omeprazole, Aspirin, Ibuprofen, A...</td>\n",
              "      <td>Sensitivity: 0.82, Specificity: 0.9</td>\n",
              "      <td>RNFL Thickness: 82.61 µm, GCC Thickness: 66.01...</td>\n",
              "      <td>588.41</td>\n",
              "      <td>Absent</td>\n",
              "      <td>Closed</td>\n",
              "      <td>Eye pain, Eye pain, Tunnel vision</td>\n",
              "      <td>No Glaucoma</td>\n",
              "      <td>Primary Open-Angle Glaucoma</td>\n",
              "    </tr>\n",
              "  </tbody>\n",
              "</table>\n",
              "</div>"
            ],
            "text/plain": [
              "   patient_id  age  gender  vis    iop   cdr family_his   medical_his  \\\n",
              "0       62431   69    Male  0.1  19.46  0.42         No      Diabetes   \n",
              "1       68125   69  Female  0.1  18.39  0.72         No  Hypertension   \n",
              "2       63329   67  Female  0.3  23.65  0.72         No  Hypertension   \n",
              "3       47174   23    Male  0.0  18.04  0.61         No          None   \n",
              "4       67361   21    Male  0.1  15.87  0.30         No      Diabetes   \n",
              "\n",
              "                                          medication  \\\n",
              "0  Amoxicillin, Lisinopril, Omeprazole, Atorvasta...   \n",
              "1  Lisinopril, Amoxicillin, Atorvastatin, Ibuprof...   \n",
              "2  Amoxicillin, Ibuprofen, Metformin, Atorvastati...   \n",
              "3                                 Ibuprofen, Aspirin   \n",
              "4  Amoxicillin, Omeprazole, Aspirin, Ibuprofen, A...   \n",
              "\n",
              "                   visual_field_results  \\\n",
              "0  Sensitivity: 0.54, Specificity: 0.75   \n",
              "1  Sensitivity: 0.72, Specificity: 0.88   \n",
              "2   Sensitivity: 0.56, Specificity: 0.8   \n",
              "3   Sensitivity: 0.6, Specificity: 0.93   \n",
              "4   Sensitivity: 0.82, Specificity: 0.9   \n",
              "\n",
              "                                                 oct  pachymetry cataract  \\\n",
              "0  RNFL Thickness: 86.48 µm, GCC Thickness: 64.14...      541.51  Present   \n",
              "1  RNFL Thickness: 96.88 µm, GCC Thickness: 56.48...      552.77   Absent   \n",
              "2  RNFL Thickness: 89.81 µm, GCC Thickness: 59.05...      573.65   Absent   \n",
              "3  RNFL Thickness: 87.25 µm, GCC Thickness: 63.98...      590.67   Absent   \n",
              "4  RNFL Thickness: 82.61 µm, GCC Thickness: 66.01...      588.41   Absent   \n",
              "\n",
              "  angle_closure                                    visual_symptoms  \\\n",
              "0          Open                    Tunnel vision, Eye pain, Nausea   \n",
              "1          Open     Redness in the eye, Vision loss, Tunnel vision   \n",
              "2        Closed  Halos around lights, Vision loss, Redness in t...   \n",
              "3        Closed                Nausea, Nausea, Halos around lights   \n",
              "4        Closed                  Eye pain, Eye pain, Tunnel vision   \n",
              "\n",
              "     diagnosis                glaucoma_type  \n",
              "0  No Glaucoma  Primary Open-Angle Glaucoma  \n",
              "1  No Glaucoma            Juvenile Glaucoma  \n",
              "2  No Glaucoma            Juvenile Glaucoma  \n",
              "3  No Glaucoma          Congenital Glaucoma  \n",
              "4  No Glaucoma  Primary Open-Angle Glaucoma  "
            ]
          },
          "execution_count": 13,
          "metadata": {},
          "output_type": "execute_result"
        }
      ],
      "source": [
        "#creating a copy of df (just in case)\n",
        "df_copy = df.copy()\n",
        "df_copy.head()"
      ]
    },
    {
      "cell_type": "markdown",
      "metadata": {
        "id": "ubE3RCqQX4sD"
      },
      "source": [
        "**visual_field_results column**"
      ]
    },
    {
      "cell_type": "code",
      "execution_count": 14,
      "metadata": {
        "colab": {
          "base_uri": "https://localhost:8080/",
          "height": 660
        },
        "id": "0WwUznDEUCgB",
        "outputId": "e04ea16f-e703-4b72-e303-e4e9c8208827"
      },
      "outputs": [
        {
          "data": {
            "text/html": [
              "<div>\n",
              "<style scoped>\n",
              "    .dataframe tbody tr th:only-of-type {\n",
              "        vertical-align: middle;\n",
              "    }\n",
              "\n",
              "    .dataframe tbody tr th {\n",
              "        vertical-align: top;\n",
              "    }\n",
              "\n",
              "    .dataframe thead th {\n",
              "        text-align: right;\n",
              "    }\n",
              "</style>\n",
              "<table border=\"1\" class=\"dataframe\">\n",
              "  <thead>\n",
              "    <tr style=\"text-align: right;\">\n",
              "      <th></th>\n",
              "      <th>patient_id</th>\n",
              "      <th>age</th>\n",
              "      <th>gender</th>\n",
              "      <th>vis</th>\n",
              "      <th>iop</th>\n",
              "      <th>cdr</th>\n",
              "      <th>family_his</th>\n",
              "      <th>medical_his</th>\n",
              "      <th>medication</th>\n",
              "      <th>visual_field_results</th>\n",
              "      <th>oct</th>\n",
              "      <th>pachymetry</th>\n",
              "      <th>cataract</th>\n",
              "      <th>angle_closure</th>\n",
              "      <th>visual_symptoms</th>\n",
              "      <th>diagnosis</th>\n",
              "      <th>glaucoma_type</th>\n",
              "      <th>visual_field_sensitivity</th>\n",
              "      <th>visual_field_specificity</th>\n",
              "    </tr>\n",
              "  </thead>\n",
              "  <tbody>\n",
              "    <tr>\n",
              "      <th>0</th>\n",
              "      <td>62431</td>\n",
              "      <td>69</td>\n",
              "      <td>Male</td>\n",
              "      <td>0.1</td>\n",
              "      <td>19.46</td>\n",
              "      <td>0.42</td>\n",
              "      <td>No</td>\n",
              "      <td>Diabetes</td>\n",
              "      <td>Amoxicillin, Lisinopril, Omeprazole, Atorvasta...</td>\n",
              "      <td>Sensitivity: 0.54, Specificity: 0.75</td>\n",
              "      <td>RNFL Thickness: 86.48 µm, GCC Thickness: 64.14...</td>\n",
              "      <td>541.51</td>\n",
              "      <td>Present</td>\n",
              "      <td>Open</td>\n",
              "      <td>Tunnel vision, Eye pain, Nausea</td>\n",
              "      <td>No Glaucoma</td>\n",
              "      <td>Primary Open-Angle Glaucoma</td>\n",
              "      <td>0.54</td>\n",
              "      <td>0.75</td>\n",
              "    </tr>\n",
              "    <tr>\n",
              "      <th>1</th>\n",
              "      <td>68125</td>\n",
              "      <td>69</td>\n",
              "      <td>Female</td>\n",
              "      <td>0.1</td>\n",
              "      <td>18.39</td>\n",
              "      <td>0.72</td>\n",
              "      <td>No</td>\n",
              "      <td>Hypertension</td>\n",
              "      <td>Lisinopril, Amoxicillin, Atorvastatin, Ibuprof...</td>\n",
              "      <td>Sensitivity: 0.72, Specificity: 0.88</td>\n",
              "      <td>RNFL Thickness: 96.88 µm, GCC Thickness: 56.48...</td>\n",
              "      <td>552.77</td>\n",
              "      <td>Absent</td>\n",
              "      <td>Open</td>\n",
              "      <td>Redness in the eye, Vision loss, Tunnel vision</td>\n",
              "      <td>No Glaucoma</td>\n",
              "      <td>Juvenile Glaucoma</td>\n",
              "      <td>0.72</td>\n",
              "      <td>0.88</td>\n",
              "    </tr>\n",
              "    <tr>\n",
              "      <th>2</th>\n",
              "      <td>63329</td>\n",
              "      <td>67</td>\n",
              "      <td>Female</td>\n",
              "      <td>0.3</td>\n",
              "      <td>23.65</td>\n",
              "      <td>0.72</td>\n",
              "      <td>No</td>\n",
              "      <td>Hypertension</td>\n",
              "      <td>Amoxicillin, Ibuprofen, Metformin, Atorvastati...</td>\n",
              "      <td>Sensitivity: 0.56, Specificity: 0.8</td>\n",
              "      <td>RNFL Thickness: 89.81 µm, GCC Thickness: 59.05...</td>\n",
              "      <td>573.65</td>\n",
              "      <td>Absent</td>\n",
              "      <td>Closed</td>\n",
              "      <td>Halos around lights, Vision loss, Redness in t...</td>\n",
              "      <td>No Glaucoma</td>\n",
              "      <td>Juvenile Glaucoma</td>\n",
              "      <td>0.56</td>\n",
              "      <td>0.80</td>\n",
              "    </tr>\n",
              "    <tr>\n",
              "      <th>3</th>\n",
              "      <td>47174</td>\n",
              "      <td>23</td>\n",
              "      <td>Male</td>\n",
              "      <td>0.0</td>\n",
              "      <td>18.04</td>\n",
              "      <td>0.61</td>\n",
              "      <td>No</td>\n",
              "      <td>None</td>\n",
              "      <td>Ibuprofen, Aspirin</td>\n",
              "      <td>Sensitivity: 0.6, Specificity: 0.93</td>\n",
              "      <td>RNFL Thickness: 87.25 µm, GCC Thickness: 63.98...</td>\n",
              "      <td>590.67</td>\n",
              "      <td>Absent</td>\n",
              "      <td>Closed</td>\n",
              "      <td>Nausea, Nausea, Halos around lights</td>\n",
              "      <td>No Glaucoma</td>\n",
              "      <td>Congenital Glaucoma</td>\n",
              "      <td>0.60</td>\n",
              "      <td>0.93</td>\n",
              "    </tr>\n",
              "    <tr>\n",
              "      <th>4</th>\n",
              "      <td>67361</td>\n",
              "      <td>21</td>\n",
              "      <td>Male</td>\n",
              "      <td>0.1</td>\n",
              "      <td>15.87</td>\n",
              "      <td>0.30</td>\n",
              "      <td>No</td>\n",
              "      <td>Diabetes</td>\n",
              "      <td>Amoxicillin, Omeprazole, Aspirin, Ibuprofen, A...</td>\n",
              "      <td>Sensitivity: 0.82, Specificity: 0.9</td>\n",
              "      <td>RNFL Thickness: 82.61 µm, GCC Thickness: 66.01...</td>\n",
              "      <td>588.41</td>\n",
              "      <td>Absent</td>\n",
              "      <td>Closed</td>\n",
              "      <td>Eye pain, Eye pain, Tunnel vision</td>\n",
              "      <td>No Glaucoma</td>\n",
              "      <td>Primary Open-Angle Glaucoma</td>\n",
              "      <td>0.82</td>\n",
              "      <td>0.90</td>\n",
              "    </tr>\n",
              "  </tbody>\n",
              "</table>\n",
              "</div>"
            ],
            "text/plain": [
              "   patient_id  age  gender  vis    iop   cdr family_his   medical_his  \\\n",
              "0       62431   69    Male  0.1  19.46  0.42         No      Diabetes   \n",
              "1       68125   69  Female  0.1  18.39  0.72         No  Hypertension   \n",
              "2       63329   67  Female  0.3  23.65  0.72         No  Hypertension   \n",
              "3       47174   23    Male  0.0  18.04  0.61         No          None   \n",
              "4       67361   21    Male  0.1  15.87  0.30         No      Diabetes   \n",
              "\n",
              "                                          medication  \\\n",
              "0  Amoxicillin, Lisinopril, Omeprazole, Atorvasta...   \n",
              "1  Lisinopril, Amoxicillin, Atorvastatin, Ibuprof...   \n",
              "2  Amoxicillin, Ibuprofen, Metformin, Atorvastati...   \n",
              "3                                 Ibuprofen, Aspirin   \n",
              "4  Amoxicillin, Omeprazole, Aspirin, Ibuprofen, A...   \n",
              "\n",
              "                   visual_field_results  \\\n",
              "0  Sensitivity: 0.54, Specificity: 0.75   \n",
              "1  Sensitivity: 0.72, Specificity: 0.88   \n",
              "2   Sensitivity: 0.56, Specificity: 0.8   \n",
              "3   Sensitivity: 0.6, Specificity: 0.93   \n",
              "4   Sensitivity: 0.82, Specificity: 0.9   \n",
              "\n",
              "                                                 oct  pachymetry cataract  \\\n",
              "0  RNFL Thickness: 86.48 µm, GCC Thickness: 64.14...      541.51  Present   \n",
              "1  RNFL Thickness: 96.88 µm, GCC Thickness: 56.48...      552.77   Absent   \n",
              "2  RNFL Thickness: 89.81 µm, GCC Thickness: 59.05...      573.65   Absent   \n",
              "3  RNFL Thickness: 87.25 µm, GCC Thickness: 63.98...      590.67   Absent   \n",
              "4  RNFL Thickness: 82.61 µm, GCC Thickness: 66.01...      588.41   Absent   \n",
              "\n",
              "  angle_closure                                    visual_symptoms  \\\n",
              "0          Open                    Tunnel vision, Eye pain, Nausea   \n",
              "1          Open     Redness in the eye, Vision loss, Tunnel vision   \n",
              "2        Closed  Halos around lights, Vision loss, Redness in t...   \n",
              "3        Closed                Nausea, Nausea, Halos around lights   \n",
              "4        Closed                  Eye pain, Eye pain, Tunnel vision   \n",
              "\n",
              "     diagnosis                glaucoma_type  visual_field_sensitivity  \\\n",
              "0  No Glaucoma  Primary Open-Angle Glaucoma                      0.54   \n",
              "1  No Glaucoma            Juvenile Glaucoma                      0.72   \n",
              "2  No Glaucoma            Juvenile Glaucoma                      0.56   \n",
              "3  No Glaucoma          Congenital Glaucoma                      0.60   \n",
              "4  No Glaucoma  Primary Open-Angle Glaucoma                      0.82   \n",
              "\n",
              "   visual_field_specificity  \n",
              "0                      0.75  \n",
              "1                      0.88  \n",
              "2                      0.80  \n",
              "3                      0.93  \n",
              "4                      0.90  "
            ]
          },
          "execution_count": 14,
          "metadata": {},
          "output_type": "execute_result"
        }
      ],
      "source": [
        "#visual_field_results\n",
        "df_copy[['visual_field_sensitivity', 'visual_field_specificity']] = df_copy['visual_field_results'].str.extract(r'Sensitivity: (\\d+\\.\\d+), Specificity: (\\d+\\.\\d+)').astype(float)\n",
        "df_copy.head()"
      ]
    },
    {
      "cell_type": "code",
      "execution_count": 15,
      "metadata": {
        "colab": {
          "base_uri": "https://localhost:8080/"
        },
        "id": "ZEobqNnFVExo",
        "outputId": "f3ebbcbe-eb95-4557-ca09-1043ed7965dc"
      },
      "outputs": [
        {
          "name": "stdout",
          "output_type": "stream",
          "text": [
            "<class 'pandas.core.frame.DataFrame'>\n",
            "RangeIndex: 10000 entries, 0 to 9999\n",
            "Data columns (total 18 columns):\n",
            " #   Column                    Non-Null Count  Dtype  \n",
            "---  ------                    --------------  -----  \n",
            " 0   patient_id                10000 non-null  int64  \n",
            " 1   age                       10000 non-null  int64  \n",
            " 2   gender                    10000 non-null  object \n",
            " 3   vis                       10000 non-null  float64\n",
            " 4   iop                       10000 non-null  float64\n",
            " 5   cdr                       10000 non-null  float64\n",
            " 6   family_his                10000 non-null  object \n",
            " 7   medical_his               10000 non-null  object \n",
            " 8   medication                8769 non-null   object \n",
            " 9   oct                       10000 non-null  object \n",
            " 10  pachymetry                10000 non-null  float64\n",
            " 11  cataract                  10000 non-null  object \n",
            " 12  angle_closure             10000 non-null  object \n",
            " 13  visual_symptoms           10000 non-null  object \n",
            " 14  diagnosis                 10000 non-null  object \n",
            " 15  glaucoma_type             10000 non-null  object \n",
            " 16  visual_field_sensitivity  10000 non-null  float64\n",
            " 17  visual_field_specificity  10000 non-null  float64\n",
            "dtypes: float64(6), int64(2), object(10)\n",
            "memory usage: 1.4+ MB\n"
          ]
        }
      ],
      "source": [
        "# Dropping the 'visual_field_results' column\n",
        "df_copy = df_copy.drop('visual_field_results', axis=1)\n",
        "df_copy.info()"
      ]
    },
    {
      "cell_type": "markdown",
      "metadata": {
        "id": "5UYaudgWYIE3"
      },
      "source": [
        "**oct column**"
      ]
    },
    {
      "cell_type": "code",
      "execution_count": 16,
      "metadata": {
        "id": "ybCNFBQPV1vH"
      },
      "outputs": [],
      "source": [
        "#oct\n",
        "#oct ('RNFL Thickness: 100.00 µm, GCC Thickness: 56.53 µm, Retinal Volume: 5.67 mm³, Macular Thickness: 284.22 µm')\n",
        "df_copy[['oct_rnfl_thick', 'oct_gcc_thick', 'oct_retinal_volume', 'oct_macular_thick']] = df_copy['oct'].str.extract(r'RNFL Thickness: (\\d+\\.\\d+) µm, GCC Thickness: (\\d+\\.\\d+) µm, Retinal Volume: (\\d+\\.\\d+) mm³, Macular Thickness: (\\d+\\.\\d+) µm')\\\n",
        "    .astype(float)\n"
      ]
    },
    {
      "cell_type": "code",
      "execution_count": 21,
      "metadata": {},
      "outputs": [],
      "source": [
        "#dropping oct column\n",
        "df_copy = df_copy.drop('oct', axis=1)"
      ]
    },
    {
      "cell_type": "code",
      "execution_count": 22,
      "metadata": {
        "colab": {
          "base_uri": "https://localhost:8080/"
        },
        "id": "ejr4AHREf4yR",
        "outputId": "4c2490ac-603e-4902-bf3a-a8368bdd33eb"
      },
      "outputs": [
        {
          "name": "stdout",
          "output_type": "stream",
          "text": [
            "<class 'pandas.core.frame.DataFrame'>\n",
            "RangeIndex: 10000 entries, 0 to 9999\n",
            "Data columns (total 21 columns):\n",
            " #   Column                    Non-Null Count  Dtype  \n",
            "---  ------                    --------------  -----  \n",
            " 0   patient_id                10000 non-null  int64  \n",
            " 1   age                       10000 non-null  int64  \n",
            " 2   gender                    10000 non-null  object \n",
            " 3   vis                       10000 non-null  float64\n",
            " 4   iop                       10000 non-null  float64\n",
            " 5   cdr                       10000 non-null  float64\n",
            " 6   family_his                10000 non-null  object \n",
            " 7   medical_his               10000 non-null  object \n",
            " 8   medication                8769 non-null   object \n",
            " 9   pachymetry                10000 non-null  float64\n",
            " 10  cataract                  10000 non-null  object \n",
            " 11  angle_closure             10000 non-null  object \n",
            " 12  visual_symptoms           10000 non-null  object \n",
            " 13  diagnosis                 10000 non-null  object \n",
            " 14  glaucoma_type             10000 non-null  object \n",
            " 15  visual_field_sensitivity  10000 non-null  float64\n",
            " 16  visual_field_specificity  10000 non-null  float64\n",
            " 17  oct_rnfl_thick            10000 non-null  float64\n",
            " 18  oct_gcc_thick             10000 non-null  float64\n",
            " 19  oct_retinal_volume        10000 non-null  float64\n",
            " 20  oct_macular_thick         10000 non-null  float64\n",
            "dtypes: float64(10), int64(2), object(9)\n",
            "memory usage: 1.6+ MB\n"
          ]
        }
      ],
      "source": [
        "df_copy.info()"
      ]
    },
    {
      "cell_type": "markdown",
      "metadata": {
        "id": "fUTFjD0fZHBG"
      },
      "source": [
        "\n",
        "2.   DEALING WITH BOOLS\n",
        "\n",
        "*   family_his\n",
        "*   cataract\n",
        "*   angle_closure\n",
        "*   diagnosis\n",
        "\n",
        "\n",
        "\n",
        "\n",
        "\n"
      ]
    },
    {
      "cell_type": "markdown",
      "metadata": {
        "id": "-8j27qcWabrL"
      },
      "source": [
        "**family_his** (Yes = True, No = False)"
      ]
    },
    {
      "cell_type": "code",
      "execution_count": 23,
      "metadata": {
        "id": "X110KMxiX1Nl"
      },
      "outputs": [],
      "source": [
        "df_copy['family_his'] = df_copy['family_his'].map({'Yes': True, 'No': False})"
      ]
    },
    {
      "cell_type": "code",
      "execution_count": 24,
      "metadata": {
        "colab": {
          "base_uri": "https://localhost:8080/"
        },
        "id": "ks-uJjGXgICO",
        "outputId": "2448b1c1-2306-4e60-8fba-6feedba91948"
      },
      "outputs": [
        {
          "data": {
            "text/plain": [
              "0       False\n",
              "1       False\n",
              "2       False\n",
              "3       False\n",
              "4       False\n",
              "        ...  \n",
              "9995    False\n",
              "9996    False\n",
              "9997     True\n",
              "9998    False\n",
              "9999    False\n",
              "Name: family_his, Length: 10000, dtype: bool"
            ]
          },
          "execution_count": 24,
          "metadata": {},
          "output_type": "execute_result"
        }
      ],
      "source": [
        "df_copy['family_his']"
      ]
    },
    {
      "cell_type": "markdown",
      "metadata": {
        "id": "oJRM999-amrA"
      },
      "source": [
        "\n",
        "**cataract** (Present = True, Absent = False)\n"
      ]
    },
    {
      "cell_type": "code",
      "execution_count": 25,
      "metadata": {
        "colab": {
          "base_uri": "https://localhost:8080/"
        },
        "id": "ZUYWz839asIA",
        "outputId": "7b01bc2c-c550-4504-c27b-e57fda166329"
      },
      "outputs": [
        {
          "data": {
            "text/plain": [
              "array(['Present', 'Absent'], dtype=object)"
            ]
          },
          "execution_count": 25,
          "metadata": {},
          "output_type": "execute_result"
        }
      ],
      "source": [
        "df_copy['cataract'].unique()"
      ]
    },
    {
      "cell_type": "code",
      "execution_count": 26,
      "metadata": {
        "id": "5id4mugxcPyY"
      },
      "outputs": [],
      "source": [
        "df_copy['cataract'] = df_copy['cataract'].map({'Present': True, 'Absent': False})"
      ]
    },
    {
      "cell_type": "code",
      "execution_count": 27,
      "metadata": {
        "colab": {
          "base_uri": "https://localhost:8080/"
        },
        "id": "Rc0V-OItcVrU",
        "outputId": "01486a98-dd6d-4b2f-f7aa-9f5b0b19086d"
      },
      "outputs": [
        {
          "data": {
            "text/plain": [
              "0        True\n",
              "1       False\n",
              "2       False\n",
              "3       False\n",
              "4       False\n",
              "        ...  \n",
              "9995    False\n",
              "9996    False\n",
              "9997     True\n",
              "9998    False\n",
              "9999    False\n",
              "Name: cataract, Length: 10000, dtype: bool"
            ]
          },
          "execution_count": 27,
          "metadata": {},
          "output_type": "execute_result"
        }
      ],
      "source": [
        "df_copy['cataract']"
      ]
    },
    {
      "cell_type": "markdown",
      "metadata": {
        "id": "gjIRQgHscjXc"
      },
      "source": [
        "**angle_closure** (Open = True, Closed = False) - it is actually ready"
      ]
    },
    {
      "cell_type": "code",
      "execution_count": 28,
      "metadata": {},
      "outputs": [],
      "source": [
        "df_copy['angle_closure'] = df_copy['angle_closure'].map({'Open': True, 'Closed': False})"
      ]
    },
    {
      "cell_type": "code",
      "execution_count": 29,
      "metadata": {
        "colab": {
          "base_uri": "https://localhost:8080/"
        },
        "id": "GmwkF0BGcouF",
        "outputId": "0abab28a-352d-4705-ef1a-d8583291f1bb"
      },
      "outputs": [
        {
          "data": {
            "text/plain": [
              "0        True\n",
              "1        True\n",
              "2       False\n",
              "3       False\n",
              "4       False\n",
              "        ...  \n",
              "9995     True\n",
              "9996     True\n",
              "9997     True\n",
              "9998    False\n",
              "9999     True\n",
              "Name: angle_closure, Length: 10000, dtype: bool"
            ]
          },
          "execution_count": 29,
          "metadata": {},
          "output_type": "execute_result"
        }
      ],
      "source": [
        "df_copy['angle_closure']"
      ]
    },
    {
      "cell_type": "markdown",
      "metadata": {
        "id": "gIj9jNJFdR7z"
      },
      "source": [
        "**diagnosis** (Glaucoma = True, No Glaucoma = False)"
      ]
    },
    {
      "cell_type": "code",
      "execution_count": 30,
      "metadata": {
        "colab": {
          "base_uri": "https://localhost:8080/"
        },
        "id": "HmuQtfzcdVMj",
        "outputId": "d3f0787c-dc07-4629-bc7b-83c94e6bc7c9"
      },
      "outputs": [
        {
          "data": {
            "text/plain": [
              "array(['No Glaucoma', 'Glaucoma'], dtype=object)"
            ]
          },
          "execution_count": 30,
          "metadata": {},
          "output_type": "execute_result"
        }
      ],
      "source": [
        "df_copy['diagnosis'].unique()"
      ]
    },
    {
      "cell_type": "code",
      "execution_count": 31,
      "metadata": {
        "id": "6nPtfA8KeeO0"
      },
      "outputs": [],
      "source": [
        "df_copy['diagnosis'] = df_copy['diagnosis'].map({'Glaucoma': True, 'No Glaucoma': False})"
      ]
    },
    {
      "cell_type": "code",
      "execution_count": 32,
      "metadata": {
        "colab": {
          "base_uri": "https://localhost:8080/"
        },
        "id": "0h1F7ty-etMs",
        "outputId": "d34a2088-6c3f-4de2-d74f-bcbae839c24e"
      },
      "outputs": [
        {
          "data": {
            "text/plain": [
              "0       False\n",
              "1       False\n",
              "2       False\n",
              "3       False\n",
              "4       False\n",
              "        ...  \n",
              "9995     True\n",
              "9996    False\n",
              "9997    False\n",
              "9998     True\n",
              "9999     True\n",
              "Name: diagnosis, Length: 10000, dtype: bool"
            ]
          },
          "execution_count": 32,
          "metadata": {},
          "output_type": "execute_result"
        }
      ],
      "source": [
        "df_copy['diagnosis']"
      ]
    },
    {
      "cell_type": "markdown",
      "metadata": {
        "id": "HdrTwms2hAcq"
      },
      "source": [
        "\n",
        "\n",
        "3.   PREPARING CLASSIFICATION DATA\n",
        "\n",
        "\n"
      ]
    },
    {
      "cell_type": "markdown",
      "metadata": {
        "id": "Jd_caWPXhOwX"
      },
      "source": [
        "**age**\n",
        "\n",
        "0. means 18-30\n",
        "1. means 31-40\n",
        "2. means 41-50\n",
        "3. means 51-60\n",
        "4. means 61-70\n",
        "5. means 71-80\n",
        "6. means > 80"
      ]
    },
    {
      "cell_type": "code",
      "execution_count": 33,
      "metadata": {
        "colab": {
          "base_uri": "https://localhost:8080/"
        },
        "id": "3_LV-fwEhOdA",
        "outputId": "f8e7e268-5b23-4ccf-db0d-e1bb46192e2d"
      },
      "outputs": [
        {
          "data": {
            "text/plain": [
              "array([69, 67, 23, 21, 88, 46, 66, 60, 29, 61, 74, 53, 76, 73, 24, 49, 54,\n",
              "       80, 19, 41, 63, 65, 85, 43, 62, 40, 30, 38, 26, 22, 71, 35, 86, 68,\n",
              "       32, 59, 27, 78, 34, 83, 89, 45, 87, 47, 44, 37, 70, 77, 18, 81, 57,\n",
              "       28, 20, 84, 90, 56, 25, 58, 79, 50, 75, 42, 55, 72, 51, 39, 33, 64,\n",
              "       48, 31, 52, 36, 82], dtype=int64)"
            ]
          },
          "execution_count": 33,
          "metadata": {},
          "output_type": "execute_result"
        }
      ],
      "source": [
        "df_copy['age'].unique()"
      ]
    },
    {
      "cell_type": "code",
      "execution_count": 34,
      "metadata": {
        "colab": {
          "base_uri": "https://localhost:8080/"
        },
        "id": "GiauZxOqiJjx",
        "outputId": "2da23570-0a87-4889-bd2d-adaf83270cae"
      },
      "outputs": [
        {
          "data": {
            "text/plain": [
              "18"
            ]
          },
          "execution_count": 34,
          "metadata": {},
          "output_type": "execute_result"
        }
      ],
      "source": [
        "df_copy['age'].min()"
      ]
    },
    {
      "cell_type": "code",
      "execution_count": 35,
      "metadata": {
        "colab": {
          "base_uri": "https://localhost:8080/"
        },
        "id": "g1B3DdqLiNtG",
        "outputId": "b136716f-764c-4cb0-a31c-85fb01320100"
      },
      "outputs": [
        {
          "data": {
            "text/plain": [
              "90"
            ]
          },
          "execution_count": 35,
          "metadata": {},
          "output_type": "execute_result"
        }
      ],
      "source": [
        "df_copy['age'].max()"
      ]
    },
    {
      "cell_type": "code",
      "execution_count": 35,
      "metadata": {
        "id": "_mSIDMrIgyf_"
      },
      "outputs": [
        {
          "data": {
            "text/plain": [
              "[18,\n",
              " 19,\n",
              " 20,\n",
              " 21,\n",
              " 22,\n",
              " 23,\n",
              " 24,\n",
              " 25,\n",
              " 26,\n",
              " 27,\n",
              " 28,\n",
              " 29,\n",
              " 30,\n",
              " 31,\n",
              " 32,\n",
              " 33,\n",
              " 34,\n",
              " 35,\n",
              " 36,\n",
              " 37,\n",
              " 38,\n",
              " 39,\n",
              " 40,\n",
              " 41,\n",
              " 42,\n",
              " 43,\n",
              " 44,\n",
              " 45,\n",
              " 46,\n",
              " 47,\n",
              " 48,\n",
              " 49,\n",
              " 50,\n",
              " 51,\n",
              " 52,\n",
              " 53,\n",
              " 54,\n",
              " 55,\n",
              " 56,\n",
              " 57,\n",
              " 58,\n",
              " 59,\n",
              " 60,\n",
              " 61,\n",
              " 62,\n",
              " 63,\n",
              " 64,\n",
              " 65,\n",
              " 66,\n",
              " 67,\n",
              " 68,\n",
              " 69,\n",
              " 70,\n",
              " 71,\n",
              " 72,\n",
              " 73,\n",
              " 74,\n",
              " 75,\n",
              " 76,\n",
              " 77,\n",
              " 78,\n",
              " 79,\n",
              " 80,\n",
              " 81,\n",
              " 82,\n",
              " 83,\n",
              " 84,\n",
              " 85,\n",
              " 86,\n",
              " 87,\n",
              " 88,\n",
              " 89,\n",
              " 90]"
            ]
          },
          "execution_count": 35,
          "metadata": {},
          "output_type": "execute_result"
        }
      ],
      "source": [
        "sorted(df_copy['age'].unique())"
      ]
    },
    {
      "cell_type": "code",
      "execution_count": 36,
      "metadata": {
        "id": "wCEKasn7jMoy"
      },
      "outputs": [],
      "source": [
        "#Creating age_group column\n",
        "conditions = [\n",
        "    (df_copy['age'] <= 30),\n",
        "    (df_copy['age'] > 30) & (df_copy['age'] <= 40),\n",
        "    (df_copy['age'] > 40) & (df_copy['age'] <= 50),\n",
        "    (df_copy['age'] > 50) & (df_copy['age'] <= 60),\n",
        "    (df_copy['age'] > 60) & (df_copy['age'] <= 70),\n",
        "    (df_copy['age'] > 70) & (df_copy['age'] <= 80),\n",
        "    (df_copy['age'] >= 80)\n",
        "]\n",
        "\n",
        "labels = labels = ['18-30', '31-40', '41-50', '51-60', '61-70', '71-80', '>80']\n",
        "\n",
        "df_copy['age_group'] = np.select(conditions, labels, default='Other')"
      ]
    },
    {
      "cell_type": "code",
      "execution_count": 37,
      "metadata": {
        "colab": {
          "base_uri": "https://localhost:8080/",
          "height": 424
        },
        "id": "wB0-v16mjlQV",
        "outputId": "50c3e65b-068c-4b1c-ed5a-52a961fd952e"
      },
      "outputs": [
        {
          "data": {
            "text/html": [
              "<div>\n",
              "<style scoped>\n",
              "    .dataframe tbody tr th:only-of-type {\n",
              "        vertical-align: middle;\n",
              "    }\n",
              "\n",
              "    .dataframe tbody tr th {\n",
              "        vertical-align: top;\n",
              "    }\n",
              "\n",
              "    .dataframe thead th {\n",
              "        text-align: right;\n",
              "    }\n",
              "</style>\n",
              "<table border=\"1\" class=\"dataframe\">\n",
              "  <thead>\n",
              "    <tr style=\"text-align: right;\">\n",
              "      <th></th>\n",
              "      <th>age</th>\n",
              "      <th>age_group</th>\n",
              "    </tr>\n",
              "  </thead>\n",
              "  <tbody>\n",
              "    <tr>\n",
              "      <th>0</th>\n",
              "      <td>69</td>\n",
              "      <td>61-70</td>\n",
              "    </tr>\n",
              "    <tr>\n",
              "      <th>1</th>\n",
              "      <td>69</td>\n",
              "      <td>61-70</td>\n",
              "    </tr>\n",
              "    <tr>\n",
              "      <th>2</th>\n",
              "      <td>67</td>\n",
              "      <td>61-70</td>\n",
              "    </tr>\n",
              "    <tr>\n",
              "      <th>3</th>\n",
              "      <td>23</td>\n",
              "      <td>18-30</td>\n",
              "    </tr>\n",
              "    <tr>\n",
              "      <th>4</th>\n",
              "      <td>21</td>\n",
              "      <td>18-30</td>\n",
              "    </tr>\n",
              "    <tr>\n",
              "      <th>...</th>\n",
              "      <td>...</td>\n",
              "      <td>...</td>\n",
              "    </tr>\n",
              "    <tr>\n",
              "      <th>9995</th>\n",
              "      <td>81</td>\n",
              "      <td>&gt;80</td>\n",
              "    </tr>\n",
              "    <tr>\n",
              "      <th>9996</th>\n",
              "      <td>65</td>\n",
              "      <td>61-70</td>\n",
              "    </tr>\n",
              "    <tr>\n",
              "      <th>9997</th>\n",
              "      <td>56</td>\n",
              "      <td>51-60</td>\n",
              "    </tr>\n",
              "    <tr>\n",
              "      <th>9998</th>\n",
              "      <td>26</td>\n",
              "      <td>18-30</td>\n",
              "    </tr>\n",
              "    <tr>\n",
              "      <th>9999</th>\n",
              "      <td>76</td>\n",
              "      <td>71-80</td>\n",
              "    </tr>\n",
              "  </tbody>\n",
              "</table>\n",
              "<p>10000 rows × 2 columns</p>\n",
              "</div>"
            ],
            "text/plain": [
              "      age age_group\n",
              "0      69     61-70\n",
              "1      69     61-70\n",
              "2      67     61-70\n",
              "3      23     18-30\n",
              "4      21     18-30\n",
              "...   ...       ...\n",
              "9995   81       >80\n",
              "9996   65     61-70\n",
              "9997   56     51-60\n",
              "9998   26     18-30\n",
              "9999   76     71-80\n",
              "\n",
              "[10000 rows x 2 columns]"
            ]
          },
          "execution_count": 37,
          "metadata": {},
          "output_type": "execute_result"
        }
      ],
      "source": [
        "df_copy[['age', 'age_group']]"
      ]
    },
    {
      "cell_type": "code",
      "execution_count": 38,
      "metadata": {
        "id": "Q9nqE32bmFAK"
      },
      "outputs": [],
      "source": [
        " #AGE GROUP AS CLASSIFICATION DATA\n",
        "\n",
        "label_encoder = LabelEncoder()\n",
        "df_copy['age_group_encoded'] = label_encoder.fit_transform(df_copy['age_group'])\n"
      ]
    },
    {
      "cell_type": "code",
      "execution_count": 39,
      "metadata": {},
      "outputs": [
        {
          "data": {
            "text/plain": [
              "array(['61-70', '18-30', '>80', '41-50', '51-60', '71-80', '31-40'],\n",
              "      dtype=object)"
            ]
          },
          "execution_count": 39,
          "metadata": {},
          "output_type": "execute_result"
        }
      ],
      "source": [
        "df_copy['age_group'].unique()"
      ]
    },
    {
      "cell_type": "code",
      "execution_count": 40,
      "metadata": {},
      "outputs": [
        {
          "data": {
            "text/plain": [
              "array([4, 0, 6, 2, 3, 5, 1])"
            ]
          },
          "execution_count": 40,
          "metadata": {},
          "output_type": "execute_result"
        }
      ],
      "source": [
        "df_copy['age_group_encoded'].unique()"
      ]
    },
    {
      "cell_type": "code",
      "execution_count": 41,
      "metadata": {
        "colab": {
          "base_uri": "https://localhost:8080/",
          "height": 424
        },
        "id": "6mSzj8KJnWM_",
        "outputId": "32c975a4-6f5d-4a41-9eb7-e7f407a42206"
      },
      "outputs": [
        {
          "data": {
            "text/html": [
              "<div>\n",
              "<style scoped>\n",
              "    .dataframe tbody tr th:only-of-type {\n",
              "        vertical-align: middle;\n",
              "    }\n",
              "\n",
              "    .dataframe tbody tr th {\n",
              "        vertical-align: top;\n",
              "    }\n",
              "\n",
              "    .dataframe thead th {\n",
              "        text-align: right;\n",
              "    }\n",
              "</style>\n",
              "<table border=\"1\" class=\"dataframe\">\n",
              "  <thead>\n",
              "    <tr style=\"text-align: right;\">\n",
              "      <th></th>\n",
              "      <th>age</th>\n",
              "      <th>age_group</th>\n",
              "      <th>age_group_encoded</th>\n",
              "    </tr>\n",
              "  </thead>\n",
              "  <tbody>\n",
              "    <tr>\n",
              "      <th>0</th>\n",
              "      <td>69</td>\n",
              "      <td>61-70</td>\n",
              "      <td>4</td>\n",
              "    </tr>\n",
              "    <tr>\n",
              "      <th>1</th>\n",
              "      <td>69</td>\n",
              "      <td>61-70</td>\n",
              "      <td>4</td>\n",
              "    </tr>\n",
              "    <tr>\n",
              "      <th>2</th>\n",
              "      <td>67</td>\n",
              "      <td>61-70</td>\n",
              "      <td>4</td>\n",
              "    </tr>\n",
              "    <tr>\n",
              "      <th>3</th>\n",
              "      <td>23</td>\n",
              "      <td>18-30</td>\n",
              "      <td>0</td>\n",
              "    </tr>\n",
              "    <tr>\n",
              "      <th>4</th>\n",
              "      <td>21</td>\n",
              "      <td>18-30</td>\n",
              "      <td>0</td>\n",
              "    </tr>\n",
              "    <tr>\n",
              "      <th>...</th>\n",
              "      <td>...</td>\n",
              "      <td>...</td>\n",
              "      <td>...</td>\n",
              "    </tr>\n",
              "    <tr>\n",
              "      <th>9995</th>\n",
              "      <td>81</td>\n",
              "      <td>&gt;80</td>\n",
              "      <td>6</td>\n",
              "    </tr>\n",
              "    <tr>\n",
              "      <th>9996</th>\n",
              "      <td>65</td>\n",
              "      <td>61-70</td>\n",
              "      <td>4</td>\n",
              "    </tr>\n",
              "    <tr>\n",
              "      <th>9997</th>\n",
              "      <td>56</td>\n",
              "      <td>51-60</td>\n",
              "      <td>3</td>\n",
              "    </tr>\n",
              "    <tr>\n",
              "      <th>9998</th>\n",
              "      <td>26</td>\n",
              "      <td>18-30</td>\n",
              "      <td>0</td>\n",
              "    </tr>\n",
              "    <tr>\n",
              "      <th>9999</th>\n",
              "      <td>76</td>\n",
              "      <td>71-80</td>\n",
              "      <td>5</td>\n",
              "    </tr>\n",
              "  </tbody>\n",
              "</table>\n",
              "<p>10000 rows × 3 columns</p>\n",
              "</div>"
            ],
            "text/plain": [
              "      age age_group  age_group_encoded\n",
              "0      69     61-70                  4\n",
              "1      69     61-70                  4\n",
              "2      67     61-70                  4\n",
              "3      23     18-30                  0\n",
              "4      21     18-30                  0\n",
              "...   ...       ...                ...\n",
              "9995   81       >80                  6\n",
              "9996   65     61-70                  4\n",
              "9997   56     51-60                  3\n",
              "9998   26     18-30                  0\n",
              "9999   76     71-80                  5\n",
              "\n",
              "[10000 rows x 3 columns]"
            ]
          },
          "execution_count": 41,
          "metadata": {},
          "output_type": "execute_result"
        }
      ],
      "source": [
        "df_copy[['age', 'age_group', 'age_group_encoded']]"
      ]
    },
    {
      "cell_type": "markdown",
      "metadata": {
        "id": "2Y8HVDfhnHvH"
      },
      "source": [
        "**medical_his**\n",
        "\n",
        "0. means  Diabetes\n",
        "1. means  Glaucoma in family\n",
        "2. means  Hypertension\n",
        "3. means  None\n",
        "\n",
        "\n"
      ]
    },
    {
      "cell_type": "code",
      "execution_count": 42,
      "metadata": {
        "colab": {
          "base_uri": "https://localhost:8080/",
          "height": 424
        },
        "id": "vAP6ePASmxjI",
        "outputId": "aed55bfa-38e5-4c89-9360-a10e4f8b961d"
      },
      "outputs": [
        {
          "data": {
            "text/html": [
              "<div>\n",
              "<style scoped>\n",
              "    .dataframe tbody tr th:only-of-type {\n",
              "        vertical-align: middle;\n",
              "    }\n",
              "\n",
              "    .dataframe tbody tr th {\n",
              "        vertical-align: top;\n",
              "    }\n",
              "\n",
              "    .dataframe thead th {\n",
              "        text-align: right;\n",
              "    }\n",
              "</style>\n",
              "<table border=\"1\" class=\"dataframe\">\n",
              "  <thead>\n",
              "    <tr style=\"text-align: right;\">\n",
              "      <th></th>\n",
              "      <th>medical_his</th>\n",
              "      <th>medical_his_encoded</th>\n",
              "    </tr>\n",
              "  </thead>\n",
              "  <tbody>\n",
              "    <tr>\n",
              "      <th>0</th>\n",
              "      <td>Diabetes</td>\n",
              "      <td>0</td>\n",
              "    </tr>\n",
              "    <tr>\n",
              "      <th>1</th>\n",
              "      <td>Hypertension</td>\n",
              "      <td>2</td>\n",
              "    </tr>\n",
              "    <tr>\n",
              "      <th>2</th>\n",
              "      <td>Hypertension</td>\n",
              "      <td>2</td>\n",
              "    </tr>\n",
              "    <tr>\n",
              "      <th>3</th>\n",
              "      <td>None</td>\n",
              "      <td>3</td>\n",
              "    </tr>\n",
              "    <tr>\n",
              "      <th>4</th>\n",
              "      <td>Diabetes</td>\n",
              "      <td>0</td>\n",
              "    </tr>\n",
              "    <tr>\n",
              "      <th>...</th>\n",
              "      <td>...</td>\n",
              "      <td>...</td>\n",
              "    </tr>\n",
              "    <tr>\n",
              "      <th>9995</th>\n",
              "      <td>None</td>\n",
              "      <td>3</td>\n",
              "    </tr>\n",
              "    <tr>\n",
              "      <th>9996</th>\n",
              "      <td>Diabetes</td>\n",
              "      <td>0</td>\n",
              "    </tr>\n",
              "    <tr>\n",
              "      <th>9997</th>\n",
              "      <td>Diabetes</td>\n",
              "      <td>0</td>\n",
              "    </tr>\n",
              "    <tr>\n",
              "      <th>9998</th>\n",
              "      <td>Glaucoma in family</td>\n",
              "      <td>1</td>\n",
              "    </tr>\n",
              "    <tr>\n",
              "      <th>9999</th>\n",
              "      <td>Diabetes</td>\n",
              "      <td>0</td>\n",
              "    </tr>\n",
              "  </tbody>\n",
              "</table>\n",
              "<p>10000 rows × 2 columns</p>\n",
              "</div>"
            ],
            "text/plain": [
              "             medical_his  medical_his_encoded\n",
              "0               Diabetes                    0\n",
              "1           Hypertension                    2\n",
              "2           Hypertension                    2\n",
              "3                   None                    3\n",
              "4               Diabetes                    0\n",
              "...                  ...                  ...\n",
              "9995                None                    3\n",
              "9996            Diabetes                    0\n",
              "9997            Diabetes                    0\n",
              "9998  Glaucoma in family                    1\n",
              "9999            Diabetes                    0\n",
              "\n",
              "[10000 rows x 2 columns]"
            ]
          },
          "execution_count": 42,
          "metadata": {},
          "output_type": "execute_result"
        }
      ],
      "source": [
        "df_copy['medical_his_encoded'] = label_encoder.fit_transform(df_copy['medical_his'])\n",
        "\n",
        "df_copy[['medical_his', 'medical_his_encoded']]"
      ]
    },
    {
      "cell_type": "code",
      "execution_count": 43,
      "metadata": {
        "colab": {
          "base_uri": "https://localhost:8080/"
        },
        "id": "38_Pl-6SncmJ",
        "outputId": "8b9a75fb-42b5-4d1a-e9ae-3aeedabd1759"
      },
      "outputs": [
        {
          "data": {
            "text/plain": [
              "array([0, 2, 3, 1])"
            ]
          },
          "execution_count": 43,
          "metadata": {},
          "output_type": "execute_result"
        }
      ],
      "source": [
        "df_copy['medical_his_encoded'].unique()"
      ]
    },
    {
      "cell_type": "markdown",
      "metadata": {
        "id": "GSfg6iZCoj-o"
      },
      "source": [
        "**glaucoma_type** (type of glaucoma suspected in the patient)\n",
        "\n",
        "0. means Angle-Closure Glaucoma\n",
        "1. means Congenital Glaucoma\n",
        "2. means Juvenile Glaucoma\n",
        "3. means Normal-Tension Glaucoma\n",
        "4. means Primary Open-Angle Glaucoma\n",
        "5. means Secondary Glaucoma\n",
        "\n",
        "\n",
        "\n",
        "\n",
        "\n",
        "\n",
        "\n"
      ]
    },
    {
      "cell_type": "code",
      "execution_count": 44,
      "metadata": {
        "colab": {
          "base_uri": "https://localhost:8080/"
        },
        "id": "o_e-qkvHoQro",
        "outputId": "14891488-4df6-4d21-8e17-31a0896838fa"
      },
      "outputs": [
        {
          "data": {
            "text/plain": [
              "Index(['patient_id', 'age', 'gender', 'vis', 'iop', 'cdr', 'family_his',\n",
              "       'medical_his', 'medication', 'pachymetry', 'cataract', 'angle_closure',\n",
              "       'visual_symptoms', 'diagnosis', 'glaucoma_type',\n",
              "       'visual_field_sensitivity', 'visual_field_specificity',\n",
              "       'oct_rnfl_thick', 'oct_gcc_thick', 'oct_retinal_volume',\n",
              "       'oct_macular_thick', 'age_group', 'age_group_encoded',\n",
              "       'medical_his_encoded'],\n",
              "      dtype='object')"
            ]
          },
          "execution_count": 44,
          "metadata": {},
          "output_type": "execute_result"
        }
      ],
      "source": [
        "df_copy.columns"
      ]
    },
    {
      "cell_type": "code",
      "execution_count": 45,
      "metadata": {
        "colab": {
          "base_uri": "https://localhost:8080/"
        },
        "id": "xiTaHAsAoajI",
        "outputId": "19cd76fc-2a2c-4f64-d752-59c5c3c2bccf"
      },
      "outputs": [
        {
          "data": {
            "text/plain": [
              "array(['Primary Open-Angle Glaucoma', 'Juvenile Glaucoma',\n",
              "       'Congenital Glaucoma', 'Normal-Tension Glaucoma',\n",
              "       'Angle-Closure Glaucoma', 'Secondary Glaucoma'], dtype=object)"
            ]
          },
          "execution_count": 45,
          "metadata": {},
          "output_type": "execute_result"
        }
      ],
      "source": [
        "df_copy['glaucoma_type'].unique()"
      ]
    },
    {
      "cell_type": "code",
      "execution_count": 46,
      "metadata": {
        "id": "jSxXMV0Qo1Dy"
      },
      "outputs": [],
      "source": [
        "df_copy['glaucoma_type_encoded'] = label_encoder.fit_transform(df_copy['glaucoma_type'])"
      ]
    },
    {
      "cell_type": "code",
      "execution_count": 47,
      "metadata": {
        "colab": {
          "base_uri": "https://localhost:8080/",
          "height": 424
        },
        "id": "b5WLz4z-unpD",
        "outputId": "54b07d0b-bfff-46f9-b38c-f045f5465ba5"
      },
      "outputs": [
        {
          "data": {
            "text/html": [
              "<div>\n",
              "<style scoped>\n",
              "    .dataframe tbody tr th:only-of-type {\n",
              "        vertical-align: middle;\n",
              "    }\n",
              "\n",
              "    .dataframe tbody tr th {\n",
              "        vertical-align: top;\n",
              "    }\n",
              "\n",
              "    .dataframe thead th {\n",
              "        text-align: right;\n",
              "    }\n",
              "</style>\n",
              "<table border=\"1\" class=\"dataframe\">\n",
              "  <thead>\n",
              "    <tr style=\"text-align: right;\">\n",
              "      <th></th>\n",
              "      <th>glaucoma_type_encoded</th>\n",
              "      <th>glaucoma_type</th>\n",
              "    </tr>\n",
              "  </thead>\n",
              "  <tbody>\n",
              "    <tr>\n",
              "      <th>0</th>\n",
              "      <td>4</td>\n",
              "      <td>Primary Open-Angle Glaucoma</td>\n",
              "    </tr>\n",
              "    <tr>\n",
              "      <th>1</th>\n",
              "      <td>2</td>\n",
              "      <td>Juvenile Glaucoma</td>\n",
              "    </tr>\n",
              "    <tr>\n",
              "      <th>2</th>\n",
              "      <td>2</td>\n",
              "      <td>Juvenile Glaucoma</td>\n",
              "    </tr>\n",
              "    <tr>\n",
              "      <th>3</th>\n",
              "      <td>1</td>\n",
              "      <td>Congenital Glaucoma</td>\n",
              "    </tr>\n",
              "    <tr>\n",
              "      <th>4</th>\n",
              "      <td>4</td>\n",
              "      <td>Primary Open-Angle Glaucoma</td>\n",
              "    </tr>\n",
              "    <tr>\n",
              "      <th>...</th>\n",
              "      <td>...</td>\n",
              "      <td>...</td>\n",
              "    </tr>\n",
              "    <tr>\n",
              "      <th>9995</th>\n",
              "      <td>3</td>\n",
              "      <td>Normal-Tension Glaucoma</td>\n",
              "    </tr>\n",
              "    <tr>\n",
              "      <th>9996</th>\n",
              "      <td>3</td>\n",
              "      <td>Normal-Tension Glaucoma</td>\n",
              "    </tr>\n",
              "    <tr>\n",
              "      <th>9997</th>\n",
              "      <td>5</td>\n",
              "      <td>Secondary Glaucoma</td>\n",
              "    </tr>\n",
              "    <tr>\n",
              "      <th>9998</th>\n",
              "      <td>3</td>\n",
              "      <td>Normal-Tension Glaucoma</td>\n",
              "    </tr>\n",
              "    <tr>\n",
              "      <th>9999</th>\n",
              "      <td>2</td>\n",
              "      <td>Juvenile Glaucoma</td>\n",
              "    </tr>\n",
              "  </tbody>\n",
              "</table>\n",
              "<p>10000 rows × 2 columns</p>\n",
              "</div>"
            ],
            "text/plain": [
              "      glaucoma_type_encoded                glaucoma_type\n",
              "0                         4  Primary Open-Angle Glaucoma\n",
              "1                         2            Juvenile Glaucoma\n",
              "2                         2            Juvenile Glaucoma\n",
              "3                         1          Congenital Glaucoma\n",
              "4                         4  Primary Open-Angle Glaucoma\n",
              "...                     ...                          ...\n",
              "9995                      3      Normal-Tension Glaucoma\n",
              "9996                      3      Normal-Tension Glaucoma\n",
              "9997                      5           Secondary Glaucoma\n",
              "9998                      3      Normal-Tension Glaucoma\n",
              "9999                      2            Juvenile Glaucoma\n",
              "\n",
              "[10000 rows x 2 columns]"
            ]
          },
          "execution_count": 47,
          "metadata": {},
          "output_type": "execute_result"
        }
      ],
      "source": [
        "df_copy[['glaucoma_type_encoded', 'glaucoma_type']]"
      ]
    },
    {
      "cell_type": "markdown",
      "metadata": {
        "id": "93_eVsBWPAWg"
      },
      "source": [
        "**visual_symptoms**"
      ]
    },
    {
      "cell_type": "code",
      "execution_count": 48,
      "metadata": {
        "id": "qAfXDBzLPD8E"
      },
      "outputs": [],
      "source": [
        "df_copy[['symptom1', 'symptom2', 'symptom3']] = df_copy['visual_symptoms'].str.split(',', expand=True)"
      ]
    },
    {
      "cell_type": "code",
      "execution_count": 49,
      "metadata": {
        "colab": {
          "base_uri": "https://localhost:8080/",
          "height": 424
        },
        "id": "xGAQfV_gPF8i",
        "outputId": "1c9c89fd-69e6-4862-f932-5bb7bb007a24"
      },
      "outputs": [
        {
          "data": {
            "text/html": [
              "<div>\n",
              "<style scoped>\n",
              "    .dataframe tbody tr th:only-of-type {\n",
              "        vertical-align: middle;\n",
              "    }\n",
              "\n",
              "    .dataframe tbody tr th {\n",
              "        vertical-align: top;\n",
              "    }\n",
              "\n",
              "    .dataframe thead th {\n",
              "        text-align: right;\n",
              "    }\n",
              "</style>\n",
              "<table border=\"1\" class=\"dataframe\">\n",
              "  <thead>\n",
              "    <tr style=\"text-align: right;\">\n",
              "      <th></th>\n",
              "      <th>symptom1</th>\n",
              "      <th>symptom2</th>\n",
              "      <th>symptom3</th>\n",
              "    </tr>\n",
              "  </thead>\n",
              "  <tbody>\n",
              "    <tr>\n",
              "      <th>0</th>\n",
              "      <td>Tunnel vision</td>\n",
              "      <td>Eye pain</td>\n",
              "      <td>Nausea</td>\n",
              "    </tr>\n",
              "    <tr>\n",
              "      <th>1</th>\n",
              "      <td>Redness in the eye</td>\n",
              "      <td>Vision loss</td>\n",
              "      <td>Tunnel vision</td>\n",
              "    </tr>\n",
              "    <tr>\n",
              "      <th>2</th>\n",
              "      <td>Halos around lights</td>\n",
              "      <td>Vision loss</td>\n",
              "      <td>Redness in the eye</td>\n",
              "    </tr>\n",
              "    <tr>\n",
              "      <th>3</th>\n",
              "      <td>Nausea</td>\n",
              "      <td>Nausea</td>\n",
              "      <td>Halos around lights</td>\n",
              "    </tr>\n",
              "    <tr>\n",
              "      <th>4</th>\n",
              "      <td>Eye pain</td>\n",
              "      <td>Eye pain</td>\n",
              "      <td>Tunnel vision</td>\n",
              "    </tr>\n",
              "    <tr>\n",
              "      <th>...</th>\n",
              "      <td>...</td>\n",
              "      <td>...</td>\n",
              "      <td>...</td>\n",
              "    </tr>\n",
              "    <tr>\n",
              "      <th>9995</th>\n",
              "      <td>Eye pain</td>\n",
              "      <td>Eye pain</td>\n",
              "      <td>Tunnel vision</td>\n",
              "    </tr>\n",
              "    <tr>\n",
              "      <th>9996</th>\n",
              "      <td>Eye pain</td>\n",
              "      <td>Halos around lights</td>\n",
              "      <td>Vomiting</td>\n",
              "    </tr>\n",
              "    <tr>\n",
              "      <th>9997</th>\n",
              "      <td>Vision loss</td>\n",
              "      <td>Vomiting</td>\n",
              "      <td>Blurred vision</td>\n",
              "    </tr>\n",
              "    <tr>\n",
              "      <th>9998</th>\n",
              "      <td>Halos around lights</td>\n",
              "      <td>Nausea</td>\n",
              "      <td>Nausea</td>\n",
              "    </tr>\n",
              "    <tr>\n",
              "      <th>9999</th>\n",
              "      <td>Eye pain</td>\n",
              "      <td>Eye pain</td>\n",
              "      <td>Halos around lights</td>\n",
              "    </tr>\n",
              "  </tbody>\n",
              "</table>\n",
              "<p>10000 rows × 3 columns</p>\n",
              "</div>"
            ],
            "text/plain": [
              "                 symptom1              symptom2              symptom3\n",
              "0           Tunnel vision              Eye pain                Nausea\n",
              "1      Redness in the eye           Vision loss         Tunnel vision\n",
              "2     Halos around lights           Vision loss    Redness in the eye\n",
              "3                  Nausea                Nausea   Halos around lights\n",
              "4                Eye pain              Eye pain         Tunnel vision\n",
              "...                   ...                   ...                   ...\n",
              "9995             Eye pain              Eye pain         Tunnel vision\n",
              "9996             Eye pain   Halos around lights              Vomiting\n",
              "9997          Vision loss              Vomiting        Blurred vision\n",
              "9998  Halos around lights                Nausea                Nausea\n",
              "9999             Eye pain              Eye pain   Halos around lights\n",
              "\n",
              "[10000 rows x 3 columns]"
            ]
          },
          "execution_count": 49,
          "metadata": {},
          "output_type": "execute_result"
        }
      ],
      "source": [
        "df_copy[['symptom1', 'symptom2', 'symptom3']]"
      ]
    },
    {
      "cell_type": "code",
      "execution_count": 50,
      "metadata": {},
      "outputs": [],
      "source": [
        "#dropping visual_symptoms column\n",
        "df_copy = df_copy.drop('visual_symptoms', axis=1)"
      ]
    },
    {
      "cell_type": "code",
      "execution_count": 51,
      "metadata": {
        "colab": {
          "base_uri": "https://localhost:8080/"
        },
        "id": "dSVLtPTQQKZ3",
        "outputId": "01785b1f-60cf-4646-b035-cf4eceb9b7ce"
      },
      "outputs": [
        {
          "name": "stdout",
          "output_type": "stream",
          "text": [
            "<class 'pandas.core.frame.DataFrame'>\n",
            "RangeIndex: 10000 entries, 0 to 9999\n",
            "Data columns (total 27 columns):\n",
            " #   Column                    Non-Null Count  Dtype  \n",
            "---  ------                    --------------  -----  \n",
            " 0   patient_id                10000 non-null  int64  \n",
            " 1   age                       10000 non-null  int64  \n",
            " 2   gender                    10000 non-null  object \n",
            " 3   vis                       10000 non-null  float64\n",
            " 4   iop                       10000 non-null  float64\n",
            " 5   cdr                       10000 non-null  float64\n",
            " 6   family_his                10000 non-null  bool   \n",
            " 7   medical_his               10000 non-null  object \n",
            " 8   medication                8769 non-null   object \n",
            " 9   pachymetry                10000 non-null  float64\n",
            " 10  cataract                  10000 non-null  bool   \n",
            " 11  angle_closure             10000 non-null  bool   \n",
            " 12  diagnosis                 10000 non-null  bool   \n",
            " 13  glaucoma_type             10000 non-null  object \n",
            " 14  visual_field_sensitivity  10000 non-null  float64\n",
            " 15  visual_field_specificity  10000 non-null  float64\n",
            " 16  oct_rnfl_thick            10000 non-null  float64\n",
            " 17  oct_gcc_thick             10000 non-null  float64\n",
            " 18  oct_retinal_volume        10000 non-null  float64\n",
            " 19  oct_macular_thick         10000 non-null  float64\n",
            " 20  age_group                 10000 non-null  object \n",
            " 21  age_group_encoded         10000 non-null  int32  \n",
            " 22  medical_his_encoded       10000 non-null  int32  \n",
            " 23  glaucoma_type_encoded     10000 non-null  int32  \n",
            " 24  symptom1                  10000 non-null  object \n",
            " 25  symptom2                  10000 non-null  object \n",
            " 26  symptom3                  10000 non-null  object \n",
            "dtypes: bool(4), float64(10), int32(3), int64(2), object(8)\n",
            "memory usage: 1.7+ MB\n"
          ]
        }
      ],
      "source": [
        "df_copy.info()"
      ]
    },
    {
      "cell_type": "markdown",
      "metadata": {},
      "source": [
        "**medication**"
      ]
    },
    {
      "cell_type": "code",
      "execution_count": 52,
      "metadata": {
        "colab": {
          "base_uri": "https://localhost:8080/"
        },
        "id": "Pm16zRn-Ro0m",
        "outputId": "077cf664-724d-4b74-82b7-d1f2176a394b"
      },
      "outputs": [
        {
          "data": {
            "text/plain": [
              "4079"
            ]
          },
          "execution_count": 52,
          "metadata": {},
          "output_type": "execute_result"
        }
      ],
      "source": [
        "#no of unique values\n",
        "df_copy['medication'][df_copy['medication'].apply(lambda x: isinstance(x, str))].nunique()"
      ]
    },
    {
      "cell_type": "code",
      "execution_count": 53,
      "metadata": {
        "colab": {
          "base_uri": "https://localhost:8080/"
        },
        "id": "ddQ_nV23SsPu",
        "outputId": "86d0e343-a994-4a9c-bb8c-d7c2cb98d436"
      },
      "outputs": [
        {
          "data": {
            "text/plain": [
              "0    Amoxicillin, Lisinopril, Omeprazole, Atorvasta...\n",
              "1    Lisinopril, Amoxicillin, Atorvastatin, Ibuprof...\n",
              "2    Amoxicillin, Ibuprofen, Metformin, Atorvastati...\n",
              "3                                   Ibuprofen, Aspirin\n",
              "4    Amoxicillin, Omeprazole, Aspirin, Ibuprofen, A...\n",
              "Name: medication, dtype: object"
            ]
          },
          "execution_count": 53,
          "metadata": {},
          "output_type": "execute_result"
        }
      ],
      "source": [
        "df_copy['medication'].head()"
      ]
    },
    {
      "cell_type": "code",
      "execution_count": 54,
      "metadata": {
        "id": "EyQFDRvdVvUu"
      },
      "outputs": [],
      "source": [
        "df_copy['medication'] = df_copy['medication'].astype(str)"
      ]
    },
    {
      "cell_type": "code",
      "execution_count": 55,
      "metadata": {
        "colab": {
          "base_uri": "https://localhost:8080/"
        },
        "id": "wFN8i-MOUs-k",
        "outputId": "52621ebb-b0cf-4f7d-e9ca-79a7495a0fb2"
      },
      "outputs": [
        {
          "data": {
            "text/plain": [
              "7"
            ]
          },
          "execution_count": 55,
          "metadata": {},
          "output_type": "execute_result"
        }
      ],
      "source": [
        "#max no of medication\n",
        "count_len = lambda x: len(x.split(','))\n",
        "df_copy['medication'].apply(count_len).max()"
      ]
    },
    {
      "cell_type": "code",
      "execution_count": 56,
      "metadata": {
        "colab": {
          "base_uri": "https://localhost:8080/"
        },
        "id": "pGeRqcpiWDUg",
        "outputId": "a027bc1e-2922-42b3-d512-e3f8724e65cc"
      },
      "outputs": [
        {
          "data": {
            "text/plain": [
              "1"
            ]
          },
          "execution_count": 56,
          "metadata": {},
          "output_type": "execute_result"
        }
      ],
      "source": [
        "#min no of medication\n",
        "df_copy['medication'].apply(count_len).min()"
      ]
    },
    {
      "cell_type": "code",
      "execution_count": 57,
      "metadata": {
        "id": "HvS1L4WPWNct"
      },
      "outputs": [],
      "source": [
        "#new cols from splitted medication col\n",
        "df_copy[['med1', 'med2', 'med3', 'med4', 'med5', 'med6', 'med7']] = df_copy['medication'].str.split(',', expand=True)"
      ]
    },
    {
      "cell_type": "code",
      "execution_count": 58,
      "metadata": {
        "colab": {
          "base_uri": "https://localhost:8080/"
        },
        "id": "DFigfCjQW1hv",
        "outputId": "8ec0f939-125c-4aab-8948-2a7816bb27ce"
      },
      "outputs": [
        {
          "name": "stdout",
          "output_type": "stream",
          "text": [
            "<class 'pandas.core.frame.DataFrame'>\n",
            "RangeIndex: 10000 entries, 0 to 9999\n",
            "Data columns (total 34 columns):\n",
            " #   Column                    Non-Null Count  Dtype  \n",
            "---  ------                    --------------  -----  \n",
            " 0   patient_id                10000 non-null  int64  \n",
            " 1   age                       10000 non-null  int64  \n",
            " 2   gender                    10000 non-null  object \n",
            " 3   vis                       10000 non-null  float64\n",
            " 4   iop                       10000 non-null  float64\n",
            " 5   cdr                       10000 non-null  float64\n",
            " 6   family_his                10000 non-null  bool   \n",
            " 7   medical_his               10000 non-null  object \n",
            " 8   medication                10000 non-null  object \n",
            " 9   pachymetry                10000 non-null  float64\n",
            " 10  cataract                  10000 non-null  bool   \n",
            " 11  angle_closure             10000 non-null  bool   \n",
            " 12  diagnosis                 10000 non-null  bool   \n",
            " 13  glaucoma_type             10000 non-null  object \n",
            " 14  visual_field_sensitivity  10000 non-null  float64\n",
            " 15  visual_field_specificity  10000 non-null  float64\n",
            " 16  oct_rnfl_thick            10000 non-null  float64\n",
            " 17  oct_gcc_thick             10000 non-null  float64\n",
            " 18  oct_retinal_volume        10000 non-null  float64\n",
            " 19  oct_macular_thick         10000 non-null  float64\n",
            " 20  age_group                 10000 non-null  object \n",
            " 21  age_group_encoded         10000 non-null  int32  \n",
            " 22  medical_his_encoded       10000 non-null  int32  \n",
            " 23  glaucoma_type_encoded     10000 non-null  int32  \n",
            " 24  symptom1                  10000 non-null  object \n",
            " 25  symptom2                  10000 non-null  object \n",
            " 26  symptom3                  10000 non-null  object \n",
            " 27  med1                      10000 non-null  object \n",
            " 28  med2                      7522 non-null   object \n",
            " 29  med3                      6261 non-null   object \n",
            " 30  med4                      5038 non-null   object \n",
            " 31  med5                      3756 non-null   object \n",
            " 32  med6                      2457 non-null   object \n",
            " 33  med7                      1257 non-null   object \n",
            "dtypes: bool(4), float64(10), int32(3), int64(2), object(15)\n",
            "memory usage: 2.2+ MB\n"
          ]
        }
      ],
      "source": [
        "df_copy.info()"
      ]
    },
    {
      "cell_type": "code",
      "execution_count": 59,
      "metadata": {
        "id": "DL-pD829XExb"
      },
      "outputs": [],
      "source": [
        "df_copy = df_copy.drop('medication', axis=1)"
      ]
    },
    {
      "cell_type": "code",
      "execution_count": 60,
      "metadata": {
        "colab": {
          "base_uri": "https://localhost:8080/"
        },
        "id": "y3YzmkDRXUmS",
        "outputId": "c7fc541e-63e3-46af-ccc6-bf286dfabe33"
      },
      "outputs": [
        {
          "name": "stdout",
          "output_type": "stream",
          "text": [
            "<class 'pandas.core.frame.DataFrame'>\n",
            "RangeIndex: 10000 entries, 0 to 9999\n",
            "Data columns (total 33 columns):\n",
            " #   Column                    Non-Null Count  Dtype  \n",
            "---  ------                    --------------  -----  \n",
            " 0   patient_id                10000 non-null  int64  \n",
            " 1   age                       10000 non-null  int64  \n",
            " 2   gender                    10000 non-null  object \n",
            " 3   vis                       10000 non-null  float64\n",
            " 4   iop                       10000 non-null  float64\n",
            " 5   cdr                       10000 non-null  float64\n",
            " 6   family_his                10000 non-null  bool   \n",
            " 7   medical_his               10000 non-null  object \n",
            " 8   pachymetry                10000 non-null  float64\n",
            " 9   cataract                  10000 non-null  bool   \n",
            " 10  angle_closure             10000 non-null  bool   \n",
            " 11  diagnosis                 10000 non-null  bool   \n",
            " 12  glaucoma_type             10000 non-null  object \n",
            " 13  visual_field_sensitivity  10000 non-null  float64\n",
            " 14  visual_field_specificity  10000 non-null  float64\n",
            " 15  oct_rnfl_thick            10000 non-null  float64\n",
            " 16  oct_gcc_thick             10000 non-null  float64\n",
            " 17  oct_retinal_volume        10000 non-null  float64\n",
            " 18  oct_macular_thick         10000 non-null  float64\n",
            " 19  age_group                 10000 non-null  object \n",
            " 20  age_group_encoded         10000 non-null  int32  \n",
            " 21  medical_his_encoded       10000 non-null  int32  \n",
            " 22  glaucoma_type_encoded     10000 non-null  int32  \n",
            " 23  symptom1                  10000 non-null  object \n",
            " 24  symptom2                  10000 non-null  object \n",
            " 25  symptom3                  10000 non-null  object \n",
            " 26  med1                      10000 non-null  object \n",
            " 27  med2                      7522 non-null   object \n",
            " 28  med3                      6261 non-null   object \n",
            " 29  med4                      5038 non-null   object \n",
            " 30  med5                      3756 non-null   object \n",
            " 31  med6                      2457 non-null   object \n",
            " 32  med7                      1257 non-null   object \n",
            "dtypes: bool(4), float64(10), int32(3), int64(2), object(14)\n",
            "memory usage: 2.1+ MB\n"
          ]
        }
      ],
      "source": [
        "df_copy.info()"
      ]
    },
    {
      "cell_type": "code",
      "execution_count": 61,
      "metadata": {},
      "outputs": [],
      "source": [
        "#no need for age to be int64\n",
        "df_copy['age'] = pd.to_numeric(df_copy['age'], downcast='integer', errors='coerce').astype('int32')"
      ]
    },
    {
      "cell_type": "code",
      "execution_count": 62,
      "metadata": {},
      "outputs": [
        {
          "name": "stdout",
          "output_type": "stream",
          "text": [
            "<class 'pandas.core.frame.DataFrame'>\n",
            "RangeIndex: 10000 entries, 0 to 9999\n",
            "Data columns (total 33 columns):\n",
            " #   Column                    Non-Null Count  Dtype  \n",
            "---  ------                    --------------  -----  \n",
            " 0   patient_id                10000 non-null  int64  \n",
            " 1   age                       10000 non-null  int32  \n",
            " 2   gender                    10000 non-null  object \n",
            " 3   vis                       10000 non-null  float64\n",
            " 4   iop                       10000 non-null  float64\n",
            " 5   cdr                       10000 non-null  float64\n",
            " 6   family_his                10000 non-null  bool   \n",
            " 7   medical_his               10000 non-null  object \n",
            " 8   pachymetry                10000 non-null  float64\n",
            " 9   cataract                  10000 non-null  bool   \n",
            " 10  angle_closure             10000 non-null  bool   \n",
            " 11  diagnosis                 10000 non-null  bool   \n",
            " 12  glaucoma_type             10000 non-null  object \n",
            " 13  visual_field_sensitivity  10000 non-null  float64\n",
            " 14  visual_field_specificity  10000 non-null  float64\n",
            " 15  oct_rnfl_thick            10000 non-null  float64\n",
            " 16  oct_gcc_thick             10000 non-null  float64\n",
            " 17  oct_retinal_volume        10000 non-null  float64\n",
            " 18  oct_macular_thick         10000 non-null  float64\n",
            " 19  age_group                 10000 non-null  object \n",
            " 20  age_group_encoded         10000 non-null  int32  \n",
            " 21  medical_his_encoded       10000 non-null  int32  \n",
            " 22  glaucoma_type_encoded     10000 non-null  int32  \n",
            " 23  symptom1                  10000 non-null  object \n",
            " 24  symptom2                  10000 non-null  object \n",
            " 25  symptom3                  10000 non-null  object \n",
            " 26  med1                      10000 non-null  object \n",
            " 27  med2                      7522 non-null   object \n",
            " 28  med3                      6261 non-null   object \n",
            " 29  med4                      5038 non-null   object \n",
            " 30  med5                      3756 non-null   object \n",
            " 31  med6                      2457 non-null   object \n",
            " 32  med7                      1257 non-null   object \n",
            "dtypes: bool(4), float64(10), int32(4), int64(1), object(14)\n",
            "memory usage: 2.1+ MB\n"
          ]
        }
      ],
      "source": [
        "df_copy.info()"
      ]
    },
    {
      "cell_type": "code",
      "execution_count": 63,
      "metadata": {},
      "outputs": [
        {
          "data": {
            "text/html": [
              "<div>\n",
              "<style scoped>\n",
              "    .dataframe tbody tr th:only-of-type {\n",
              "        vertical-align: middle;\n",
              "    }\n",
              "\n",
              "    .dataframe tbody tr th {\n",
              "        vertical-align: top;\n",
              "    }\n",
              "\n",
              "    .dataframe thead th {\n",
              "        text-align: right;\n",
              "    }\n",
              "</style>\n",
              "<table border=\"1\" class=\"dataframe\">\n",
              "  <thead>\n",
              "    <tr style=\"text-align: right;\">\n",
              "      <th></th>\n",
              "      <th>age</th>\n",
              "      <th>age_group</th>\n",
              "    </tr>\n",
              "  </thead>\n",
              "  <tbody>\n",
              "    <tr>\n",
              "      <th>0</th>\n",
              "      <td>69</td>\n",
              "      <td>61-70</td>\n",
              "    </tr>\n",
              "    <tr>\n",
              "      <th>1</th>\n",
              "      <td>69</td>\n",
              "      <td>61-70</td>\n",
              "    </tr>\n",
              "    <tr>\n",
              "      <th>2</th>\n",
              "      <td>67</td>\n",
              "      <td>61-70</td>\n",
              "    </tr>\n",
              "    <tr>\n",
              "      <th>3</th>\n",
              "      <td>23</td>\n",
              "      <td>18-30</td>\n",
              "    </tr>\n",
              "    <tr>\n",
              "      <th>4</th>\n",
              "      <td>21</td>\n",
              "      <td>18-30</td>\n",
              "    </tr>\n",
              "    <tr>\n",
              "      <th>...</th>\n",
              "      <td>...</td>\n",
              "      <td>...</td>\n",
              "    </tr>\n",
              "    <tr>\n",
              "      <th>9995</th>\n",
              "      <td>81</td>\n",
              "      <td>&gt;80</td>\n",
              "    </tr>\n",
              "    <tr>\n",
              "      <th>9996</th>\n",
              "      <td>65</td>\n",
              "      <td>61-70</td>\n",
              "    </tr>\n",
              "    <tr>\n",
              "      <th>9997</th>\n",
              "      <td>56</td>\n",
              "      <td>51-60</td>\n",
              "    </tr>\n",
              "    <tr>\n",
              "      <th>9998</th>\n",
              "      <td>26</td>\n",
              "      <td>18-30</td>\n",
              "    </tr>\n",
              "    <tr>\n",
              "      <th>9999</th>\n",
              "      <td>76</td>\n",
              "      <td>71-80</td>\n",
              "    </tr>\n",
              "  </tbody>\n",
              "</table>\n",
              "<p>10000 rows × 2 columns</p>\n",
              "</div>"
            ],
            "text/plain": [
              "      age age_group\n",
              "0      69     61-70\n",
              "1      69     61-70\n",
              "2      67     61-70\n",
              "3      23     18-30\n",
              "4      21     18-30\n",
              "...   ...       ...\n",
              "9995   81       >80\n",
              "9996   65     61-70\n",
              "9997   56     51-60\n",
              "9998   26     18-30\n",
              "9999   76     71-80\n",
              "\n",
              "[10000 rows x 2 columns]"
            ]
          },
          "execution_count": 63,
          "metadata": {},
          "output_type": "execute_result"
        }
      ],
      "source": [
        "df_copy[['age', 'age_group']]"
      ]
    },
    {
      "cell_type": "code",
      "execution_count": 64,
      "metadata": {},
      "outputs": [
        {
          "data": {
            "text/plain": [
              "0"
            ]
          },
          "execution_count": 64,
          "metadata": {},
          "output_type": "execute_result"
        }
      ],
      "source": [
        "df_copy['age'].isna().sum()"
      ]
    },
    {
      "cell_type": "code",
      "execution_count": 69,
      "metadata": {},
      "outputs": [],
      "source": [
        "df = df_copy"
      ]
    },
    {
      "cell_type": "code",
      "execution_count": 70,
      "metadata": {},
      "outputs": [
        {
          "name": "stdout",
          "output_type": "stream",
          "text": [
            "<class 'pandas.core.frame.DataFrame'>\n",
            "RangeIndex: 10000 entries, 0 to 9999\n",
            "Data columns (total 33 columns):\n",
            " #   Column                    Non-Null Count  Dtype  \n",
            "---  ------                    --------------  -----  \n",
            " 0   patient_id                10000 non-null  int64  \n",
            " 1   age                       10000 non-null  int32  \n",
            " 2   gender                    10000 non-null  object \n",
            " 3   vis                       10000 non-null  float64\n",
            " 4   iop                       10000 non-null  float64\n",
            " 5   cdr                       10000 non-null  float64\n",
            " 6   family_his                10000 non-null  bool   \n",
            " 7   medical_his               10000 non-null  object \n",
            " 8   pachymetry                10000 non-null  float64\n",
            " 9   cataract                  10000 non-null  bool   \n",
            " 10  angle_closure             10000 non-null  bool   \n",
            " 11  diagnosis                 10000 non-null  bool   \n",
            " 12  glaucoma_type             10000 non-null  object \n",
            " 13  visual_field_sensitivity  10000 non-null  float64\n",
            " 14  visual_field_specificity  10000 non-null  float64\n",
            " 15  oct_rnfl_thick            10000 non-null  float64\n",
            " 16  oct_gcc_thick             10000 non-null  float64\n",
            " 17  oct_retinal_volume        10000 non-null  float64\n",
            " 18  oct_macular_thick         10000 non-null  float64\n",
            " 19  age_group                 10000 non-null  object \n",
            " 20  age_group_encoded         10000 non-null  int32  \n",
            " 21  medical_his_encoded       10000 non-null  int32  \n",
            " 22  glaucoma_type_encoded     10000 non-null  int32  \n",
            " 23  symptom1                  10000 non-null  object \n",
            " 24  symptom2                  10000 non-null  object \n",
            " 25  symptom3                  10000 non-null  object \n",
            " 26  med1                      10000 non-null  object \n",
            " 27  med2                      7522 non-null   object \n",
            " 28  med3                      6261 non-null   object \n",
            " 29  med4                      5038 non-null   object \n",
            " 30  med5                      3756 non-null   object \n",
            " 31  med6                      2457 non-null   object \n",
            " 32  med7                      1257 non-null   object \n",
            "dtypes: bool(4), float64(10), int32(4), int64(1), object(14)\n",
            "memory usage: 2.1+ MB\n"
          ]
        }
      ],
      "source": [
        "df.info()"
      ]
    },
    {
      "cell_type": "code",
      "execution_count": 71,
      "metadata": {},
      "outputs": [],
      "source": [
        "#saving the df for further analysis\n",
        "\n",
        "#df.to_csv('glaucoma_df.csv', index=False)"
      ]
    },
    {
      "cell_type": "code",
      "execution_count": 75,
      "metadata": {},
      "outputs": [
        {
          "data": {
            "text/plain": [
              "10000"
            ]
          },
          "execution_count": 75,
          "metadata": {},
          "output_type": "execute_result"
        }
      ],
      "source": [
        "df['patient_id'].nunique()"
      ]
    },
    {
      "cell_type": "code",
      "execution_count": 76,
      "metadata": {},
      "outputs": [],
      "source": [
        "'''\n",
        "patients_table = df[['patient_id', 'age', 'age_group', 'gender', 'vis', 'iop', 'cdr', 'pachymetry', 'glaucoma_type']]\n",
        "bool_table = df[['patient_id', 'family_his', 'cataract', 'angle_closure', 'diagnosis']]\n",
        "symptoms_medication_table = df[['patient_id', 'symptom1', 'symptom2', 'symptom3', 'med1', 'med2', 'med3', 'med4', 'med5', 'med6', 'med7']]\n",
        "oct_visual_field_table = df[['patient_id', 'visual_field_sensitivity', 'visual_field_specificity', 'oct_rnfl_thick', 'oct_gcc_thick', 'oct_retinal_volume', 'oct_macular_thick']]\n",
        "'''"
      ]
    },
    {
      "cell_type": "code",
      "execution_count": 79,
      "metadata": {},
      "outputs": [],
      "source": [
        "'''\n",
        "patients_table.to_csv('C:/Users/julau/OneDrive/Dokumenty/Studia II/projekty/glaucoma_detection/data/patients_table.csv', index=False)\n",
        "bool_table.to_csv('C:/Users/julau/OneDrive/Dokumenty/Studia II/projekty/glaucoma_detection/data/bool_table.csv', index=False)\n",
        "symptoms_medication_table.to_csv('C:/Users/julau/OneDrive/Dokumenty/Studia II/projekty/glaucoma_detection/data/symptoms_medication_table.csv', index=False)\n",
        "oct_visual_field_table.to_csv('C:/Users/julau/OneDrive/Dokumenty/Studia II/projekty/glaucoma_detection/data/oct_visual_field_table.csv', index=False)\n",
        "'''"
      ]
    }
  ],
  "metadata": {
    "colab": {
      "provenance": []
    },
    "kernelspec": {
      "display_name": "Python 3",
      "name": "python3"
    },
    "language_info": {
      "codemirror_mode": {
        "name": "ipython",
        "version": 3
      },
      "file_extension": ".py",
      "mimetype": "text/x-python",
      "name": "python",
      "nbconvert_exporter": "python",
      "pygments_lexer": "ipython3",
      "version": "3.10.6"
    }
  },
  "nbformat": 4,
  "nbformat_minor": 0
}
